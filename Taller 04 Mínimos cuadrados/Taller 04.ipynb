{
 "cells": [
  {
   "cell_type": "raw",
   "metadata": {
    "vscode": {
     "languageId": "raw"
    }
   },
   "source": [
    "---\n",
    "title: \"[Taller 04] Mínimos cuadrados\"\n",
    "author: \"Freddy Jimenez\"\n",
    "lang: es\n",
    "format: \n",
    "  pdf:\n",
    "    toc: true\n",
    "    toc-title: \"Tabla de Contenidos\"  \n",
    "execute:qua\n",
    "  echo: true\n",
    "  error: false\n",
    "  warning: false\n",
    "jupyter: python3\n",
    "---"
   ]
  },
  {
   "cell_type": "markdown",
   "metadata": {},
   "source": [
    "## [Taller 04] Mínimos cuadrados"
   ]
  },
  {
   "cell_type": "code",
   "execution_count": 2,
   "metadata": {},
   "outputs": [],
   "source": [
    "p1 = (5.4, 3.2)\n",
    "p2_i = (9.5, 0.7)\n",
    "p3 = (12.3, -3.6)"
   ]
  },
  {
   "cell_type": "code",
   "execution_count": 3,
   "metadata": {},
   "outputs": [
    {
     "data": {
      "application/vnd.jupyter.widget-view+json": {
       "model_id": "bf79d73c45ba46d9a0b468487bb8c7db",
       "version_major": 2,
       "version_minor": 0
      },
      "text/plain": [
       "interactive(children=(FloatSlider(value=8.9, description='p2_x', max=12.3, min=5.5), FloatSlider(value=0.0, de…"
      ]
     },
     "metadata": {},
     "output_type": "display_data"
    }
   ],
   "source": [
    "import numpy as np\n",
    "import matplotlib.pyplot as plt\n",
    "from ipywidgets import interact\n",
    "\n",
    "# Definimos tres puntos en el plano cartesiano\n",
    "p1 = (5.4, 3.2)\n",
    "p3 = (12.3, -3.6)\n",
    "\n",
    "def calcular_recta_ajustada(x_vals, y_vals):\n",
    "    # Convertir las coordenadas a arrays de numpy para hacer los cálculos\n",
    "    x = np.array(x_vals)\n",
    "    y = np.array(y_vals)\n",
    "\n",
    "    # Calcular la pendiente (m) y la intersección (b) con numpy.polyfit, que realiza la regresión lineal\n",
    "    pendiente, interseccion = np.polyfit(x, y, 1)\n",
    "    return pendiente, interseccion\n",
    "\n",
    "def graficar_actualizado(p2_x, p2_y):\n",
    "    # Usamos las coordenadas para formar los puntos de la recta\n",
    "    coordenadas_x = [p1[0], p2_x, p3[0]]\n",
    "    coordenadas_y = [p1[1], p2_y, p3[1]]\n",
    "\n",
    "    # Obtener los parámetros de la recta ajustada (pendiente y corte)\n",
    "    pendiente, interseccion = calcular_recta_ajustada(coordenadas_x, coordenadas_y)\n",
    "\n",
    "    # Crear una nueva figura para la gráfica\n",
    "    plt.figure(figsize=(10, 6))\n",
    "    plt.scatter(coordenadas_x, coordenadas_y, color=\"red\", label=\"Puntos\")\n",
    "\n",
    "    # Definir los valores de la línea ajustada\n",
    "    x_linea = [min(coordenadas_x), max(coordenadas_x)]\n",
    "    y_linea = [pendiente * x + interseccion for x in x_linea]\n",
    "    plt.plot(x_linea, y_linea, color=\"blue\", label=f\"Recta: y = {pendiente:.2f}x + {interseccion:.2f}\")\n",
    "\n",
    "    # Etiquetas de los ejes\n",
    "    plt.xlabel(\"Eje X\")\n",
    "    plt.ylabel(\"Eje Y\")\n",
    "    plt.title(\"Visualización de los Puntos y la Recta de Regresión Lineal\")\n",
    "    plt.legend()\n",
    "    plt.grid(True)\n",
    "    plt.show()\n",
    "\n",
    "    # Mostrar la ecuación de la recta en consola\n",
    "    print(f\"Ecuación de la recta: y = {pendiente:.2f}x + {interseccion:.2f}\")\n",
    "\n",
    "# Configuración interactiva para modificar el segundo punto y visualizar la recta ajustada\n",
    "_ = interact(graficar_actualizado, p2_x=(5.5, 12.3, 0.1), p2_y=(-10.0, 10.0, 0.1))"
   ]
  },
  {
   "cell_type": "code",
   "execution_count": null,
   "metadata": {},
   "outputs": [],
   "source": []
  }
 ],
 "metadata": {
  "kernelspec": {
   "display_name": "Python 3",
   "language": "python",
   "name": "python3"
  },
  "language_info": {
   "codemirror_mode": {
    "name": "ipython",
    "version": 3
   },
   "file_extension": ".py",
   "mimetype": "text/x-python",
   "name": "python",
   "nbconvert_exporter": "python",
   "pygments_lexer": "ipython3",
   "version": "3.11.9"
  }
 },
 "nbformat": 4,
 "nbformat_minor": 2
}
