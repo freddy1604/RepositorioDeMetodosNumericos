{
 "cells": [
  {
   "cell_type": "markdown",
   "metadata": {},
   "source": [
    "# ESCUELA POLITECNICA NACIONAL\n",
    "- Nombre: Freddy Jiménez\n",
    "- Curso: Gr1cc\n",
    "- Fecha: 14/12/2024"
   ]
  },
  {
   "cell_type": "markdown",
   "metadata": {},
   "source": [
    "## [Taller 04] Mínimos cuadrados"
   ]
  },
  {
   "cell_type": "markdown",
   "metadata": {},
   "source": []
  }
 ],
 "metadata": {
  "language_info": {
   "name": "python"
  }
 },
 "nbformat": 4,
 "nbformat_minor": 2
}
