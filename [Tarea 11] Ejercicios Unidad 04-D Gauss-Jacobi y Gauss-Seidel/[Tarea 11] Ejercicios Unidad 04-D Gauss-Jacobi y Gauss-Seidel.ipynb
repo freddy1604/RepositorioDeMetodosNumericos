{
 "cells": [
  {
   "cell_type": "markdown",
   "metadata": {},
   "source": [
    "# ESCUELA POLITECNICA NACIONAL \n",
    "- Nombre: Freddy Jimenez\n",
    "- Curso: Gr1cc\n",
    "- Fecha: 17/01/2025"
   ]
  },
  {
   "cell_type": "markdown",
   "metadata": {},
   "source": [
    "## REPOSITORIO. -\n",
    "\n",
    "Link: https://github.com/freddy1604/RepositorioDeMetodosNumericos/tree/main/%5BTarea%2011%5D%20Ejercicios%20Unidad%2004-D%20Gauss-Jacobi%20y%20Gauss-Seidel"
   ]
  },
  {
   "cell_type": "markdown",
   "metadata": {},
   "source": [
    "# [Tarea 11] Ejercicios Unidad 04-D | Gauss-Jacobi y Gauss-Seidel"
   ]
  },
  {
   "cell_type": "markdown",
   "metadata": {},
   "source": [
    "Resuelva los ejercicios adjuntos.\n",
    "\n",
    "Indicaciones. -\n",
    "\n",
    "- Puede realizar los cálculos a mano, o utilizar cualquier librería o implementar su propia función. \n",
    "- En caso de usar código, subir la resolución de los ejercicios en un repositorio público en Github e incluir enlace de su repositorio.  \n",
    "- Subir archivo pdf."
   ]
  },
  {
   "cell_type": "markdown",
   "metadata": {},
   "source": [
    "## CONJUNTO DE EJERCICIOS. -"
   ]
  },
  {
   "cell_type": "markdown",
   "metadata": {},
   "source": [
    "### 1. Encuentre las primeras dos iteraciones del método de Jacobi para los siguientes sistemas lineales, por medio de $x^{(0)}=0$:"
   ]
  },
  {
   "cell_type": "markdown",
   "metadata": {},
   "source": [
    "![](imagen1.png)"
   ]
  },
  {
   "cell_type": "code",
   "execution_count": 7,
   "metadata": {},
   "outputs": [
    {
     "name": "stdout",
     "output_type": "stream",
     "text": [
      "\n",
      "Resultados para el sistema a con Jacobi:\n",
      "Iteración 0: [0. 0. 0.]\n",
      "Iteración 1: [0.33333333 0.         0.57142857]\n",
      "Iteración 2: [ 0.14285714 -0.35714286  0.42857143]\n",
      "\n",
      "Resultados para el sistema b con Jacobi:\n",
      "Iteración 0: [0. 0. 0.]\n",
      "Iteración 1: [0.9 0.7 0.6]\n",
      "Iteración 2: [0.97 0.91 0.74]\n",
      "\n",
      "Resultados para el sistema c con Jacobi:\n",
      "Iteración 0: [0. 0. 0. 0.]\n",
      "Iteración 1: [ 0.6    2.5   -1.375 -2.2  ]\n",
      "Iteración 2: [-0.65   1.65  -0.4   -2.475]\n",
      "\n",
      "Resultados para el sistema d con Jacobi:\n",
      "Iteración 0: [0. 0. 0. 0. 0.]\n",
      "Iteración 1: [ 1.5 -2.   1.2  1.5  1.5]\n",
      "Iteración 2: [ 1.325 -1.6    1.6    1.675  2.425]\n"
     ]
    }
   ],
   "source": [
    "import numpy as np\n",
    "\n",
    "def jacobi_method(A, b, x0, iterations):\n",
    "    n = len(b)\n",
    "    x = x0.copy()\n",
    "    results = [x0.copy()]\n",
    "\n",
    "    for _ in range(iterations):\n",
    "        x_new = np.zeros_like(x)\n",
    "        for i in range(n):\n",
    "            sum1 = np.dot(A[i, :i], x[:i])\n",
    "            sum2 = np.dot(A[i, i+1:], x[i+1:])\n",
    "            x_new[i] = (b[i] - sum1 - sum2) / A[i, i]\n",
    "        results.append(x_new.copy())\n",
    "        x = x_new\n",
    "\n",
    "    return results\n",
    "\n",
    "systems = {\n",
    "    \"a\": {\n",
    "        \"A\": np.array([[3, -1, 1],\n",
    "                        [3, 6, 2],\n",
    "                        [3, 3, 7]], dtype=float),\n",
    "        \"b\": np.array([1, 0, 4], dtype=float)\n",
    "    },\n",
    "    \"b\": {\n",
    "        \"A\": np.array([[10, -1, 0],\n",
    "                        [-1, 10, -2],\n",
    "                        [0, -2, 10]], dtype=float),\n",
    "        \"b\": np.array([9, 7, 6], dtype=float)\n",
    "    },\n",
    "    \"c\": {\n",
    "        \"A\": np.array([[10, 5, 0, 0],\n",
    "                        [5, 10, -4, 0],\n",
    "                        [0, -4, 8, -1],\n",
    "                        [0, 0, -1, 5]], dtype=float),\n",
    "        \"b\": np.array([6, 25, -11, -11], dtype=float)\n",
    "    },\n",
    "    \"d\": {\n",
    "        \"A\": np.array([[4, 1, 1, 0, 1],\n",
    "                        [-1, -3, 1, 1, 0],\n",
    "                        [2, 1, 5, -1, -1],\n",
    "                        [-1, -1, -1, 4, 0],\n",
    "                        [0, 2, -1, 1, 4]], dtype=float),\n",
    "        \"b\": np.array([6, 6, 6, 6, 6], dtype=float)\n",
    "    }\n",
    "}\n",
    "\n",
    "x0 = {\n",
    "    \"a\": np.zeros(3),\n",
    "    \"b\": np.zeros(3),\n",
    "    \"c\": np.zeros(4),\n",
    "    \"d\": np.zeros(5)\n",
    "}\n",
    "iterations = 2\n",
    "\n",
    "for literal, data in systems.items():\n",
    "    A = data[\"A\"]\n",
    "    b = data[\"b\"]\n",
    "    x0_literal = x0[literal]\n",
    "    results = jacobi_method(A, b, x0_literal, iterations)\n",
    "\n",
    "    print(f\"\\nResultados para el sistema {literal} con Jacobi:\")\n",
    "    for i, res in enumerate(results):\n",
    "        print(f\"Iteración {i}: {res}\")"
   ]
  },
  {
   "cell_type": "markdown",
   "metadata": {},
   "source": [
    "### 2. Repita el ejercicio 1 usando el método de Gauss-Siedel."
   ]
  },
  {
   "cell_type": "code",
   "execution_count": 5,
   "metadata": {},
   "outputs": [
    {
     "name": "stdout",
     "output_type": "stream",
     "text": [
      "\n",
      "Resultados para el sistema a con Gauss-Seidel:\n",
      "Iteración 0: [0. 0. 0.]\n",
      "Iteración 1: [ 0.33333333 -0.16666667  0.5       ]\n",
      "Iteración 2: [ 0.11111111 -0.22222222  0.61904762]\n",
      "\n",
      "Resultados para el sistema b con Gauss-Seidel:\n",
      "Iteración 0: [0. 0. 0.]\n",
      "Iteración 1: [0.9   0.79  0.758]\n",
      "Iteración 2: [0.979  0.9495 0.7899]\n",
      "\n",
      "Resultados para el sistema c con Gauss-Seidel:\n",
      "Iteración 0: [0. 0. 0. 0.]\n",
      "Iteración 1: [ 0.6    2.2   -0.275 -2.255]\n",
      "Iteración 2: [-0.5       2.64     -0.336875 -2.267375]\n",
      "\n",
      "Resultados para el sistema d con Gauss-Seidel:\n",
      "Iteración 0: [0. 0. 0. 0. 0.]\n",
      "Iteración 1: [ 1.5     -2.5      1.1      1.525    2.64375]\n",
      "Iteración 2: [ 1.1890625  -1.52135417  1.86239583  1.88252604  2.25564453]\n"
     ]
    }
   ],
   "source": [
    "import numpy as np\n",
    "\n",
    "def gauss_seidel_method(A, b, x0, iterations):\n",
    " \n",
    "    n = len(b)\n",
    "    x = x0.copy()\n",
    "    results = [x0.copy()]\n",
    "\n",
    "    for _ in range(iterations):\n",
    "        for i in range(n):\n",
    "            sum1 = np.dot(A[i, :i], x[:i])\n",
    "            sum2 = np.dot(A[i, i+1:], x[i+1:])\n",
    "            x[i] = (b[i] - sum1 - sum2) / A[i, i]\n",
    "        results.append(x.copy())\n",
    "\n",
    "    return results\n",
    "\n",
    "systems = {\n",
    "    \"a\": {\n",
    "        \"A\": np.array([[3, -1, 1],\n",
    "                        [3, 6, 2],\n",
    "                        [3, 3, 7]], dtype=float),\n",
    "        \"b\": np.array([1, 0, 4], dtype=float)\n",
    "    },\n",
    "    \"b\": {\n",
    "        \"A\": np.array([[10, -1, 0],\n",
    "                        [-1, 10, -2],\n",
    "                        [0, -2, 10]], dtype=float),\n",
    "        \"b\": np.array([9, 7, 6], dtype=float)\n",
    "    },\n",
    "    \"c\": {\n",
    "        \"A\": np.array([[10, 5, 0, 0],\n",
    "                        [5, 10, -4, 0],\n",
    "                        [0, -4, 8, -1],\n",
    "                        [0, 0, -1, 5]], dtype=float),\n",
    "        \"b\": np.array([6, 25, -11, -11], dtype=float)\n",
    "    },\n",
    "    \"d\": {\n",
    "        \"A\": np.array([[4, 1, 1, 0, 1],\n",
    "                        [-1, -3, 1, 1, 0],\n",
    "                        [2, 1, 5, -1, -1],\n",
    "                        [-1, -1, -1, 4, 0],\n",
    "                        [0, 2, -1, 1, 4]], dtype=float),\n",
    "        \"b\": np.array([6, 6, 6, 6, 6], dtype=float)\n",
    "    }\n",
    "}\n",
    "\n",
    "x0 = {\n",
    "    \"a\": np.zeros(3),\n",
    "    \"b\": np.zeros(3),\n",
    "    \"c\": np.zeros(4),\n",
    "    \"d\": np.zeros(5)\n",
    "}\n",
    "iterations = 2\n",
    "\n",
    "for literal, data in systems.items():\n",
    "    A = data[\"A\"]\n",
    "    b = data[\"b\"]\n",
    "    x0_literal = x0[literal]\n",
    "    results = gauss_seidel_method(A, b, x0_literal, iterations)\n",
    "\n",
    "    print(f\"\\nResultados para el sistema {literal} con Gauss-Seidel:\")\n",
    "    for i, res in enumerate(results):\n",
    "        print(f\"Iteración {i}: {res}\")"
   ]
  },
  {
   "cell_type": "markdown",
   "metadata": {},
   "source": [
    "### 3. Utilice el método de Jacobi para resolver los sistemas lineales en el ejercicio 1, con $TOL = 10_{-3}$."
   ]
  },
  {
   "cell_type": "code",
   "execution_count": 8,
   "metadata": {},
   "outputs": [
    {
     "name": "stdout",
     "output_type": "stream",
     "text": [
      "\n",
      "Resultados para el sistema a con Jacobi (TOL = 0.001):\n",
      "Iteración 0: [0. 0. 0.]\n",
      "Iteración 1: [0.33333333 0.         0.57142857]\n",
      "Iteración 2: [ 0.14285714 -0.35714286  0.42857143]\n",
      "Iteración 3: [ 0.07142857 -0.21428571  0.66326531]\n",
      "Iteración 4: [ 0.04081633 -0.25680272  0.63265306]\n",
      "Iteración 5: [ 0.03684807 -0.23129252  0.66399417]\n",
      "Iteración 6: [ 0.03490444 -0.23975543  0.6547619 ]\n",
      "Iteración 7: [ 0.03516089 -0.23570619  0.65922185]\n",
      "Iteración 8: [ 0.03502399 -0.23732106  0.65737656]\n",
      "Iteración 9: [ 0.03510079 -0.23663751  0.65812732]\n",
      "\n",
      "Resultados para el sistema b con Jacobi (TOL = 0.001):\n",
      "Iteración 0: [0. 0. 0.]\n",
      "Iteración 1: [0.9 0.7 0.6]\n",
      "Iteración 2: [0.97 0.91 0.74]\n",
      "Iteración 3: [0.991 0.945 0.782]\n",
      "Iteración 4: [0.9945 0.9555 0.789 ]\n",
      "Iteración 5: [0.99555 0.95725 0.7911 ]\n",
      "Iteración 6: [0.995725 0.957775 0.79145 ]\n",
      "\n",
      "Resultados para el sistema c con Jacobi (TOL = 0.001):\n",
      "Iteración 0: [0. 0. 0. 0.]\n",
      "Iteración 1: [ 0.6    2.5   -1.375 -2.2  ]\n",
      "Iteración 2: [-0.65   1.65  -0.4   -2.475]\n",
      "Iteración 3: [-0.225     2.665    -0.859375 -2.28    ]\n",
      "Iteración 4: [-0.7325    2.26875  -0.3275   -2.371875]\n",
      "Iteración 5: [-0.534375    2.73525    -0.53710938 -2.2655    ]\n",
      "Iteración 6: [-0.767625    2.55234375 -0.2905625  -2.30742188]\n",
      "Iteración 7: [-0.67617187  2.7675875  -0.38725586 -2.2581125 ]\n",
      "Iteración 8: [-0.78379375  2.68318359 -0.27347031 -2.27745117]\n",
      "Iteración 9: [-0.7415918   2.78250875 -0.3180896  -2.25469406]\n",
      "Iteración 10: [-0.79125438  2.74356006 -0.26558238 -2.26361792]\n",
      "Iteración 11: [-0.77178003  2.78939423 -0.28617221 -2.25311648]\n",
      "Iteración 12: [-0.79469712  2.77142113 -0.26194244 -2.25723444]\n",
      "Iteración 13: [-0.78571057  2.79257158 -0.27144374 -2.25238849]\n",
      "Iteración 14: [-0.79628579  2.78427779 -0.26026277 -2.25428875]\n",
      "Iteración 15: [-0.79213889  2.79403779 -0.2646472  -2.25205255]\n",
      "Iteración 16: [-0.79701889  2.79021057 -0.25948768 -2.25292944]\n",
      "Iteración 17: [-0.79510528  2.79471438 -0.2615109  -2.25189754]\n",
      "Iteración 18: [-0.79735719  2.79294828 -0.25913    -2.25230218]\n",
      "Iteración 19: [-0.79647414  2.79502659 -0.26006363 -2.251826  ]\n",
      "Iteración 20: [-0.7975133   2.79421162 -0.25896495 -2.25201273]\n",
      "Iteración 21: [-0.79710581  2.79517067 -0.25939578 -2.25179299]\n",
      "\n",
      "Resultados para el sistema d con Jacobi (TOL = 0.001):\n",
      "Iteración 0: [0. 0. 0. 0. 0.]\n",
      "Iteración 1: [ 1.5 -2.   1.2  1.5  1.5]\n",
      "Iteración 2: [ 1.325 -1.6    1.6    1.675  2.425]\n",
      "Iteración 3: [ 0.89375 -1.35     1.81     1.83125  2.28125]\n",
      "Iteración 4: [ 0.8146875  -1.08416667  1.935       1.8384375   2.1696875 ]\n",
      "Iteración 5: [ 0.74486979 -1.01375     1.89258333  1.91638021  2.06622396]\n",
      "Iteración 6: [ 0.76373568 -0.97863542  1.90132292  1.90592578  2.00092578]\n",
      "Iteración 7: [ 0.76909668 -0.98549566  1.87160313  1.92160579  1.98816699]\n",
      "Iteración 8: [ 0.78143139 -0.99196259  1.87141502  1.91380104  1.98024716]\n",
      "Iteración 9: [ 0.7850751  -0.99873844  1.8646296   1.91522095  1.98538479]\n",
      "Iteración 10: [ 0.78718101 -1.00174151  1.8658388   1.91274157  1.98672138]\n",
      "Iteración 11: [ 0.78729533 -1.00286688  1.86536849  1.91281957  1.98914507]\n",
      "Iteración 12: [ 0.78708833 -1.00303576  1.86604817  1.91244923  1.98957067]\n"
     ]
    }
   ],
   "source": [
    "import numpy as np\n",
    "\n",
    "def jacobi_method_with_tol(A, b, x0, tol):\n",
    "    n = len(b)\n",
    "    x = x0.copy()\n",
    "    results = [x0.copy()]\n",
    "    iteration = 0\n",
    "\n",
    "    while True:\n",
    "        x_new = np.zeros_like(x)\n",
    "        for i in range(n):\n",
    "            sum1 = np.dot(A[i, :i], x[:i])\n",
    "            sum2 = np.dot(A[i, i+1:], x[i+1:])\n",
    "            x_new[i] = (b[i] - sum1 - sum2) / A[i, i]\n",
    "\n",
    "        results.append(x_new.copy())\n",
    "        iteration += 1\n",
    "\n",
    "        # Verificar criterio de parada\n",
    "        if np.linalg.norm(x_new - x, ord=np.inf) < tol:\n",
    "            break\n",
    "\n",
    "        x = x_new\n",
    "\n",
    "    return results\n",
    "\n",
    "systems = {\n",
    "    \"a\": {\n",
    "        \"A\": np.array([[3, -1, 1],\n",
    "                        [3, 6, 2],\n",
    "                        [3, 3, 7]], dtype=float),\n",
    "        \"b\": np.array([1, 0, 4], dtype=float)\n",
    "    },\n",
    "    \"b\": {\n",
    "        \"A\": np.array([[10, -1, 0],\n",
    "                        [-1, 10, -2],\n",
    "                        [0, -2, 10]], dtype=float),\n",
    "        \"b\": np.array([9, 7, 6], dtype=float)\n",
    "    },\n",
    "    \"c\": {\n",
    "        \"A\": np.array([[10, 5, 0, 0],\n",
    "                        [5, 10, -4, 0],\n",
    "                        [0, -4, 8, -1],\n",
    "                        [0, 0, -1, 5]], dtype=float),\n",
    "        \"b\": np.array([6, 25, -11, -11], dtype=float)\n",
    "    },\n",
    "    \"d\": {\n",
    "        \"A\": np.array([[4, 1, 1, 0, 1],\n",
    "                        [-1, -3, 1, 1, 0],\n",
    "                        [2, 1, 5, -1, -1],\n",
    "                        [-1, -1, -1, 4, 0],\n",
    "                        [0, 2, -1, 1, 4]], dtype=float),\n",
    "        \"b\": np.array([6, 6, 6, 6, 6], dtype=float)\n",
    "    }\n",
    "}\n",
    "\n",
    "x0 = {\n",
    "    \"a\": np.zeros(3),\n",
    "    \"b\": np.zeros(3),\n",
    "    \"c\": np.zeros(4),\n",
    "    \"d\": np.zeros(5)\n",
    "}\n",
    "tol = 1e-3\n",
    "\n",
    "for literal, data in systems.items():\n",
    "    A = data[\"A\"]\n",
    "    b = data[\"b\"]\n",
    "    x0_literal = x0[literal]\n",
    "    results = jacobi_method_with_tol(A, b, x0_literal, tol)\n",
    "\n",
    "    print(f\"\\nResultados para el sistema {literal} con Jacobi (TOL = {tol}):\")\n",
    "    for i, res in enumerate(results):\n",
    "        print(f\"Iteración {i}: {res}\")"
   ]
  },
  {
   "cell_type": "markdown",
   "metadata": {},
   "source": [
    "### 4. Utilice el método de Gauss-Siedel para resolver los sistemas lineales en el ejercicio 1, con $TOL = 10_{-3}$."
   ]
  },
  {
   "cell_type": "code",
   "execution_count": 9,
   "metadata": {},
   "outputs": [
    {
     "name": "stdout",
     "output_type": "stream",
     "text": [
      "\n",
      "Resultados para el sistema a con Gauss-Seidel (TOL = 0.001):\n",
      "Iteración 0: [0. 0. 0.]\n",
      "Iteración 1: [ 0.33333333 -0.16666667  0.5       ]\n",
      "Iteración 2: [ 0.11111111 -0.22222222  0.61904762]\n",
      "Iteración 3: [ 0.05291005 -0.23280423  0.64852608]\n",
      "Iteración 4: [ 0.03955656 -0.23595364  0.65559875]\n",
      "Iteración 5: [ 0.0361492  -0.23660752  0.65733928]\n",
      "Iteración 6: [ 0.03535107 -0.23678863  0.65775895]\n",
      "\n",
      "Resultados para el sistema b con Gauss-Seidel (TOL = 0.001):\n",
      "Iteración 0: [0. 0. 0.]\n",
      "Iteración 1: [0.9   0.79  0.758]\n",
      "Iteración 2: [0.979  0.9495 0.7899]\n",
      "Iteración 3: [0.99495  0.957475 0.791495]\n",
      "Iteración 4: [0.9957475  0.95787375 0.79157475]\n",
      "\n",
      "Resultados para el sistema c con Gauss-Seidel (TOL = 0.001):\n",
      "Iteración 0: [0. 0. 0. 0.]\n",
      "Iteración 1: [ 0.6    2.2   -0.275 -2.255]\n",
      "Iteración 2: [-0.5       2.64     -0.336875 -2.267375]\n",
      "Iteración 3: [-0.72        2.72525    -0.29579688 -2.25915938]\n",
      "Iteración 4: [-0.762625    2.76299375 -0.27589805 -2.25517961]\n",
      "Iteración 5: [-0.78149687  2.78038922 -0.26670284 -2.25334057]\n",
      "Iteración 6: [-0.79019461  2.78841617 -0.26245949 -2.2524919 ]\n",
      "Iteración 7: [-0.79420808  2.79212025 -0.26050136 -2.25210027]\n",
      "Iteración 8: [-0.79606012  2.79382952 -0.25959778 -2.25191956]\n",
      "Iteración 9: [-0.79691476  2.79461827 -0.25918081 -2.25183616]\n",
      "\n",
      "Resultados para el sistema d con Gauss-Seidel (TOL = 0.001):\n",
      "Iteración 0: [0. 0. 0. 0. 0.]\n",
      "Iteración 1: [ 1.5     -2.5      1.1      1.525    2.64375]\n",
      "Iteración 2: [ 1.1890625  -1.52135417  1.86239583  1.88252604  2.25564453]\n",
      "Iteración 3: [ 0.85082845 -1.03530219  1.89436317  1.92747236  2.0093738 ]\n",
      "Iteración 4: [ 0.7828913  -0.98701859  1.87161643  1.91687229  1.98219533]\n",
      "Iteración 5: [ 0.78330171 -0.998271    1.86614704  1.91279444  1.98747365]\n",
      "Iteración 6: [ 0.78616258 -1.00240703  1.86606999  1.91245638  1.98960692]\n",
      "Iteración 7: [ 0.78668253 -1.00271872  1.86628339  1.9125618   1.98978976]\n"
     ]
    }
   ],
   "source": [
    "import numpy as np\n",
    "\n",
    "def gauss_seidel_with_tol(A, b, x0, tol):\n",
    "    n = len(b)\n",
    "    x = x0.copy()\n",
    "    results = [x0.copy()]\n",
    "\n",
    "    while True:\n",
    "        x_new = x.copy()\n",
    "        for i in range(n):\n",
    "            sum1 = np.dot(A[i, :i], x_new[:i])\n",
    "            sum2 = np.dot(A[i, i+1:], x[i+1:])\n",
    "            x_new[i] = (b[i] - sum1 - sum2) / A[i, i]\n",
    "\n",
    "        results.append(x_new.copy())\n",
    "\n",
    "        if np.linalg.norm(x_new - x, ord=np.inf) < tol:\n",
    "            break\n",
    "\n",
    "        x = x_new\n",
    "\n",
    "    return results\n",
    "\n",
    "systems = {\n",
    "    \"a\": {\n",
    "        \"A\": np.array([[3, -1, 1],\n",
    "                        [3, 6, 2],\n",
    "                        [3, 3, 7]], dtype=float),\n",
    "        \"b\": np.array([1, 0, 4], dtype=float)\n",
    "    },\n",
    "    \"b\": {\n",
    "        \"A\": np.array([[10, -1, 0],\n",
    "                        [-1, 10, -2],\n",
    "                        [0, -2, 10]], dtype=float),\n",
    "        \"b\": np.array([9, 7, 6], dtype=float)\n",
    "    },\n",
    "    \"c\": {\n",
    "        \"A\": np.array([[10, 5, 0, 0],\n",
    "                        [5, 10, -4, 0],\n",
    "                        [0, -4, 8, -1],\n",
    "                        [0, 0, -1, 5]], dtype=float),\n",
    "        \"b\": np.array([6, 25, -11, -11], dtype=float)\n",
    "    },\n",
    "    \"d\": {\n",
    "        \"A\": np.array([[4, 1, 1, 0, 1],\n",
    "                        [-1, -3, 1, 1, 0],\n",
    "                        [2, 1, 5, -1, -1],\n",
    "                        [-1, -1, -1, 4, 0],\n",
    "                        [0, 2, -1, 1, 4]], dtype=float),\n",
    "        \"b\": np.array([6, 6, 6, 6, 6], dtype=float)\n",
    "    }\n",
    "}\n",
    "\n",
    "x0 = {\n",
    "    \"a\": np.zeros(3),\n",
    "    \"b\": np.zeros(3),\n",
    "    \"c\": np.zeros(4),\n",
    "    \"d\": np.zeros(5)\n",
    "}\n",
    "tol = 1e-3\n",
    "\n",
    "for literal, data in systems.items():\n",
    "    A = data[\"A\"]\n",
    "    b = data[\"b\"]\n",
    "    x0_literal = x0[literal]\n",
    "    results = gauss_seidel_with_tol(A, b, x0_literal, tol)\n",
    "\n",
    "    print(f\"\\nResultados para el sistema {literal} con Gauss-Seidel (TOL = {tol}):\")\n",
    "    for i, res in enumerate(results):\n",
    "        print(f\"Iteración {i}: {res}\")"
   ]
  },
  {
   "cell_type": "markdown",
   "metadata": {},
   "source": [
    "### 5. El sistema lineal, tiene la solución (1, 2, -1)"
   ]
  },
  {
   "cell_type": "markdown",
   "metadata": {},
   "source": [
    "![](imagen2.png)"
   ]
  },
  {
   "cell_type": "markdown",
   "metadata": {},
   "source": [
    "#### a) Muestre que el método de Jacobi con $x_{(0)} = 0$ falla al proporcionar una buena aproximación después de 25 iteraciones."
   ]
  },
  {
   "cell_type": "code",
   "execution_count": 2,
   "metadata": {},
   "outputs": [
    {
     "name": "stdout",
     "output_type": "stream",
     "text": [
      "\n",
      "Resultados del método de Jacobi con 25 iteraciones:\n",
      "Iteración 0: [0. 0. 0.]\n",
      "Iteración 1: [-0.5  2.  -2.5]\n",
      "Iteración 2: [ 1.75  5.   -1.75]\n",
      "Iteración 3: [2.875 2.    0.875]\n",
      "Iteración 4: [ 0.0625 -1.75   -0.0625]\n",
      "Iteración 5: [-1.34375  2.      -3.34375]\n",
      "Iteración 6: [ 2.171875  6.6875   -2.171875]\n",
      "Iteración 7: [3.9296875 2.        1.9296875]\n",
      "Iteración 8: [-0.46484375 -3.859375    0.46484375]\n",
      "Iteración 9: [-2.66210938  2.         -4.66210938]\n",
      "Iteración 10: [ 2.83105469  9.32421875 -2.83105469]\n",
      "Iteración 11: [5.57763672 2.         3.57763672]\n",
      "Iteración 12: [-1.28881836 -7.15527344  1.28881836]\n",
      "Iteración 13: [-4.7220459  2.        -6.7220459]\n",
      "Iteración 14: [ 3.86102295 13.4440918  -3.86102295]\n",
      "Iteración 15: [8.15255737 2.         6.15255737]\n",
      "Iteración 16: [ -2.57627869 -12.30511475   2.57627869]\n",
      "Iteración 17: [-7.94069672  2.         -9.94069672]\n",
      "Iteración 18: [ 5.47034836 19.88139343 -5.47034836]\n",
      "Iteración 19: [12.1758709  2.        10.1758709]\n",
      "Iteración 20: [ -4.58793545 -20.35174179   4.58793545]\n",
      "Iteración 21: [-12.96983862   2.         -14.96983862]\n",
      "Iteración 22: [ 7.98491931 29.93967724 -7.98491931]\n",
      "Iteración 23: [18.46229827  2.         16.46229827]\n",
      "Iteración 24: [ -7.73114914 -32.92459655   7.73114914]\n",
      "Iteración 25: [-20.82787284   2.         -22.82787284]\n"
     ]
    }
   ],
   "source": [
    "import numpy as np\n",
    "\n",
    "def jacobi_method_with_iterations(A, b, x0, max_iter):\n",
    "\n",
    "    n = len(b)\n",
    "    x = x0.copy()\n",
    "    results = [x0.copy()]\n",
    "\n",
    "    for _ in range(max_iter):\n",
    "        x_new = np.zeros_like(x)\n",
    "        for i in range(n):\n",
    "            sum1 = np.dot(A[i, :i], x[:i])\n",
    "            sum2 = np.dot(A[i, i + 1:], x[i + 1:])\n",
    "            x_new[i] = (b[i] - sum1 - sum2) / A[i, i]\n",
    "\n",
    "        results.append(x_new.copy())\n",
    "        x = x_new\n",
    "\n",
    "    return results\n",
    "\n",
    "max_iter = 25\n",
    "jacobi_results = jacobi_method_with_iterations(A, b, x0, max_iter)\n",
    "\n",
    "print(\"\\nResultados del método de Jacobi con 25 iteraciones:\")\n",
    "for i, res in enumerate(jacobi_results):\n",
    "    print(f\"Iteración {i}: {res}\")"
   ]
  },
  {
   "cell_type": "markdown",
   "metadata": {},
   "source": [
    "#### b) Utilice el método de Gauss-Siedel con $x_{(0)} = 0$: para aproximar la solución para el sistema lineal dentro de $10^{-5}$"
   ]
  },
  {
   "cell_type": "code",
   "execution_count": 3,
   "metadata": {},
   "outputs": [
    {
     "name": "stdout",
     "output_type": "stream",
     "text": [
      "\n",
      "Resultados del método de Gauss-Seidel con tolerancia 10^(-5):\n",
      "Iteración 0: [0. 0. 0.]\n",
      "Iteración 1: [-0.5  2.5 -1.5]\n",
      "Iteración 2: [ 1.5   2.   -0.75]\n",
      "Iteración 3: [ 0.875  1.875 -1.125]\n",
      "Iteración 4: [ 1.      2.125  -0.9375]\n",
      "Iteración 5: [ 1.03125  1.90625 -1.03125]\n",
      "Iteración 6: [ 0.96875   2.0625   -0.984375]\n",
      "Iteración 7: [ 1.0234375  1.9609375 -1.0078125]\n",
      "Iteración 8: [ 0.984375    2.0234375  -0.99609375]\n",
      "Iteración 9: [ 1.00976562  1.98632812 -1.00195312]\n",
      "Iteración 10: [ 0.99414062  2.0078125  -0.99902344]\n",
      "Iteración 11: [ 1.00341797  1.99560547 -1.00048828]\n",
      "Iteración 12: [ 0.99804688  2.00244141 -0.99975586]\n",
      "Iteración 13: [ 1.00109863  1.99865723 -1.00012207]\n",
      "Iteración 14: [ 0.99938965  2.00073242 -0.99993896]\n",
      "Iteración 15: [ 1.00033569  1.99960327 -1.00003052]\n",
      "Iteración 16: [ 0.99981689  2.00021362 -0.99998474]\n",
      "Iteración 17: [ 1.00009918  1.99988556 -1.00000763]\n",
      "Iteración 18: [ 0.99994659  2.00006104 -0.99999619]\n",
      "Iteración 19: [ 1.00002861  1.99996758 -1.00000191]\n",
      "Iteración 20: [ 0.99998474  2.00001717 -0.99999905]\n",
      "Iteración 21: [ 1.00000811  1.99999094 -1.00000048]\n",
      "Iteración 22: [ 0.99999571  2.00000477 -0.99999976]\n",
      "Iteración 23: [ 1.00000226  1.9999975  -1.00000012]\n"
     ]
    }
   ],
   "source": [
    "import numpy as np\n",
    "\n",
    "def gauss_seidel_with_tol(A, b, x0, tol):\n",
    "\n",
    "    n = len(b)\n",
    "    x = x0.copy()\n",
    "    results = [x0.copy()]\n",
    "\n",
    "    while True:\n",
    "        x_new = x.copy()\n",
    "        for i in range(n):\n",
    "            sum1 = np.dot(A[i, :i], x_new[:i])\n",
    "            sum2 = np.dot(A[i, i+1:], x[i+1:])\n",
    "            x_new[i] = (b[i] - sum1 - sum2) / A[i, i]\n",
    "\n",
    "        results.append(x_new.copy())\n",
    "\n",
    "        if np.linalg.norm(x_new - x, ord=np.inf) < tol:\n",
    "            break\n",
    "\n",
    "        x = x_new\n",
    "\n",
    "    return results\n",
    "\n",
    "A = np.array([[2, -1, 1],\n",
    "              [2,  2, 2],\n",
    "              [-1, -1, 2]], dtype=float)\n",
    "b = np.array([-1, 4, -5], dtype=float)\n",
    "x0 = np.zeros(3)\n",
    "tol = 1e-5\n",
    "gauss_seidel_results = gauss_seidel_with_tol(A, b, x0, tol)\n",
    "\n",
    "print(\"\\nResultados del método de Gauss-Seidel con tolerancia 10^(-5):\")\n",
    "for i, res in enumerate(gauss_seidel_results):\n",
    "    print(f\"Iteración {i}: {res}\")"
   ]
  },
  {
   "cell_type": "markdown",
   "metadata": {},
   "source": [
    "### 6. El sistema lineal, tiene la solución (0.9, -0.8, 0.7)"
   ]
  },
  {
   "cell_type": "markdown",
   "metadata": {},
   "source": [
    "![](imagen3.png)"
   ]
  },
  {
   "cell_type": "markdown",
   "metadata": {},
   "source": [
    "#### a) ¿La matriz de coeficientes, tiene diagonal estrictamente dominante?"
   ]
  },
  {
   "cell_type": "markdown",
   "metadata": {},
   "source": [
    "![](imagen4.png)"
   ]
  },
  {
   "cell_type": "markdown",
   "metadata": {},
   "source": [
    "#### b) Utilice el método iterativo de Gauss-Siedel para aproximar la solución para el sistema lineal con una tolerancia de $10_{22}$ y un máximo de 300 iteraciones."
   ]
  },
  {
   "cell_type": "markdown",
   "metadata": {},
   "source": [
    "#### c) ¿Qué pasa en la parte b) cuando el sistema cambia por el siguiente?"
   ]
  },
  {
   "cell_type": "markdown",
   "metadata": {},
   "source": [
    "![](imagen5.png)"
   ]
  },
  {
   "cell_type": "markdown",
   "metadata": {},
   "source": [
    "### 7. Repita el ejercicio 11 usando el método de Jacobi."
   ]
  },
  {
   "cell_type": "markdown",
   "metadata": {},
   "source": [
    "### 8. Un cable coaxial está formado por un conductor interno de 0.1 pulgadas cuadradas y un conductor externo de 0.5 pulgadas cuadradas. El potencial en un punto en la sección transversal del cable se describe mediante la ecuación de Laplace. Suponga que el conductor interno se mantiene en 0 volts y el conductor externo se mantiene en 110 volts. Aproximar el potencial entre los dos conductores requiere resolver el siguiente sistema lineal."
   ]
  },
  {
   "cell_type": "markdown",
   "metadata": {},
   "source": [
    "![](imagen6.png)"
   ]
  },
  {
   "cell_type": "markdown",
   "metadata": {},
   "source": [
    "#### a. ¿La matriz es estrictamente diagonalmente dominante?"
   ]
  },
  {
   "cell_type": "markdown",
   "metadata": {},
   "source": [
    "#### b. Resuelva el sistema lineal usando el método de Jacobi con $x_{(0)} = 0$ y $TOL = 10_{-2}$."
   ]
  },
  {
   "cell_type": "markdown",
   "metadata": {},
   "source": [
    "#### c. Repita la parte b) mediante el método de Gauss-Siedel."
   ]
  }
 ],
 "metadata": {
  "kernelspec": {
   "display_name": "Python 3",
   "language": "python",
   "name": "python3"
  },
  "language_info": {
   "codemirror_mode": {
    "name": "ipython",
    "version": 3
   },
   "file_extension": ".py",
   "mimetype": "text/x-python",
   "name": "python",
   "nbconvert_exporter": "python",
   "pygments_lexer": "ipython3",
   "version": "3.11.9"
  }
 },
 "nbformat": 4,
 "nbformat_minor": 2
}
