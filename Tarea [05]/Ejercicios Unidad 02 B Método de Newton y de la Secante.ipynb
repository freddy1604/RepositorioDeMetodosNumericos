{
 "cells": [
  {
   "cell_type": "markdown",
   "metadata": {},
   "source": [
    "# [Tarea 05] Ejercicios Unidad 02 B Método de Newton y de la Secante"
   ]
  },
  {
   "cell_type": "markdown",
   "metadata": {},
   "source": [
    "* Nombre:Freddy Jimenez\n",
    "* Curso:Gr1cc\n",
    "* Materia: Metodos Númericos\n",
    "* Fecha: 29/10/2024"
   ]
  },
  {
   "cell_type": "markdown",
   "metadata": {},
   "source": [
    "## CONJUNTO DE EJERCICIOS. -"
   ]
  },
  {
   "cell_type": "markdown",
   "metadata": {},
   "source": [
    "### 1. Sea f(x) = $-x^3 - cos(x)$ y $p_0 = -1$. Use el método de Newton y de la Secante para encontrar $p_2$. ¿Se podría usar $p_0 = 0$?"
   ]
  },
  {
   "cell_type": "code",
   "execution_count": null,
   "metadata": {},
   "outputs": [],
   "source": []
  },
  {
   "cell_type": "markdown",
   "metadata": {},
   "source": [
    "### 2. Encuentre soluciones precisas dentro de $10^−4$ para los siguientes problemas."
   ]
  },
  {
   "cell_type": "markdown",
   "metadata": {},
   "source": [
    "#### a) $𝑥^3 − 2𝑥^2 − 5 = 0$, [1, 4] "
   ]
  },
  {
   "cell_type": "code",
   "execution_count": null,
   "metadata": {},
   "outputs": [
    {
     "name": "stdout",
     "output_type": "stream",
     "text": [
      "El resultado de la ecuación x^3 - 2x^2 - 5 = 0 es: 2.69064744802861532946\n",
      "Se alcanzó la solución en 4 iteraciones.\n"
     ]
    }
   ],
   "source": [
    "def f(x):\n",
    "    return x**3 - 2*x**2 - 5\n",
    "def f_derivada(x):\n",
    "    return 3*x**2 - 4*x\n",
    "def metodo_de_newton(x0, tolerancia, max_iteraciones):\n",
    "    for iteracion in range(1, max_iteraciones + 1):\n",
    "        # Evitar división por cero\n",
    "        derivada = f_derivada(x0)\n",
    "        if derivada == 0:\n",
    "            print(\"Error: La derivada es cero. No se puede continuar con el método de Newton.\")\n",
    "            return None\n",
    "        # Método de Newton\n",
    "        x1 = x0 - f(x0) / derivada\n",
    "        # Verificar si la diferencia es menor que la tolerancia\n",
    "        if abs(x1 - x0) < tolerancia:\n",
    "            return x1, iteracion\n",
    "        # Actualizar el valor de x0 para la siguiente iteración\n",
    "        x0 = x1\n",
    "    # Si no se alcanza la tolerancia en el número máximo de iteraciones\n",
    "    return x0, max_iteraciones\n",
    "\n",
    "def main():\n",
    "    x0 = (1 + 4) / 2  # Punto inicial\n",
    "    tolerancia = 1e-4\n",
    "    max_iteraciones = 100\n",
    "    # Llamar al método de Newton\n",
    "    solucion, iteraciones = metodo_de_newton(x0, tolerancia, max_iteraciones)\n",
    "    if solucion is not None:\n",
    "        print(f\"El resultado de la ecuación x^3 - 2x^2 - 5 = 0 es: {solucion:.20f}\")\n",
    "        print(f\"Se alcanzó la solución en {iteraciones} iteraciones.\")\n",
    "    else:\n",
    "        print(\"No se pudo encontrar una solución válida.\")\n",
    "main()"
   ]
  },
  {
   "cell_type": "markdown",
   "metadata": {},
   "source": [
    "\n",
    "#### b) $𝑥^3 + 3𝑥^2 − 1 = 0$, [−3, −2]"
   ]
  },
  {
   "cell_type": "code",
   "execution_count": 9,
   "metadata": {},
   "outputs": [
    {
     "name": "stdout",
     "output_type": "stream",
     "text": [
      "El resultado de la ecuación x^3 + 3x^2 - 1 es: -2.87938523846004823525\n",
      "Se alcanzó la solución en 6 iteraciones.\n"
     ]
    }
   ],
   "source": [
    "# Método Secante\n",
    "def f(x):\n",
    "    return x**3 + 3*x**2 - 1\n",
    "def metodo_secante(x0, x1, tolerancia, max_iteraciones):\n",
    "    for iteracion in range(1, max_iteraciones + 1):\n",
    "        # Evitar división por cero\n",
    "        denominador = f(x1) - f(x0)\n",
    "        if denominador == 0:\n",
    "            print(\"Error: El denominador es cero. No se puede continuar con el método de la secante.\")\n",
    "            return None\n",
    "        # Método de la secante\n",
    "        x2 = x1 - f(x1) * (x1 - x0) / denominador\n",
    "        # Verificar si la diferencia es menor que la tolerancia\n",
    "        if abs(x2 - x1) < tolerancia:\n",
    "            return x2, iteracion\n",
    "        # Actualizar los valores para la siguiente iteración\n",
    "        x0 = x1\n",
    "        x1 = x2\n",
    "    # Si no se alcanza la tolerancia en el número máximo de iteraciones\n",
    "    return x1, max_iteraciones\n",
    "def main():\n",
    "    x0 = -3  # Primer valor inicial\n",
    "    x1 = 2   # Segundo valor inicial\n",
    "    tolerancia = 1e-4\n",
    "    max_iteraciones = 100\n",
    "    # Llamar al método de la secante\n",
    "    solucion, iteraciones = metodo_secante(x0, x1, tolerancia, max_iteraciones)\n",
    "    if solucion is not None:\n",
    "        print(f\"El resultado de la ecuación x^3 + 3x^2 - 1 es: {solucion:.20f}\")\n",
    "        print(f\"Se alcanzó la solución en {iteraciones} iteraciones.\")\n",
    "    else:\n",
    "        print(\"No se pudo encontrar una solución válida.\")\n",
    "main()"
   ]
  },
  {
   "cell_type": "markdown",
   "metadata": {},
   "source": [
    "#### c) $𝑥 − cos 𝑥 = 0$, [0, 𝜋⁄2]"
   ]
  },
  {
   "cell_type": "code",
   "execution_count": 10,
   "metadata": {},
   "outputs": [
    {
     "name": "stdout",
     "output_type": "stream",
     "text": [
      "El resultado de la ecuación x - cos(x) = 0 es: 0.73908513321516100536\n",
      "Se alcanzó la solución en 3 iteraciones.\n"
     ]
    }
   ],
   "source": [
    "from math import cos, sin, pi\n",
    "def f(x):\n",
    "    return x - cos(x)\n",
    "def f_derivada(x):\n",
    "    return 1 + sin(x)\n",
    "def metodo_newton(x0, tolerancia, max_iteraciones):\n",
    "    for iteracion in range(1, max_iteraciones + 1):\n",
    "        # Evitar división por cero\n",
    "        derivada = f_derivada(x0)\n",
    "        if derivada == 0:\n",
    "            print(\"Error: La derivada es cero. No se puede continuar con el método de Newton.\")\n",
    "            return None\n",
    "        # Método de Newton\n",
    "        x1 = x0 - f(x0) / derivada\n",
    "        # Verificar si la diferencia es menor que la tolerancia\n",
    "        if abs(x1 - x0) < tolerancia:\n",
    "            return x1, iteracion\n",
    "        # Actualizar el valor de x0 para la siguiente iteración\n",
    "        x0 = x1\n",
    "    # Si no se alcanza la tolerancia en el número máximo de iteraciones\n",
    "    return x0, max_iteraciones\n",
    "def main():\n",
    "    x0 = pi / 4  # Punto inicial dentro del intervalo [0, pi/2]\n",
    "    tolerancia = 1e-4\n",
    "    max_iteraciones = 100\n",
    "    # Llamar al método de Newton\n",
    "    solucion, iteraciones = metodo_newton(x0, tolerancia, max_iteraciones)\n",
    "    if solucion is not None:\n",
    "        print(f\"El resultado de la ecuación x - cos(x) = 0 es: {solucion:.20f}\")\n",
    "        print(f\"Se alcanzó la solución en {iteraciones} iteraciones.\")\n",
    "    else:\n",
    "        print(\"No se pudo encontrar una solución válida.\")\n",
    "main()"
   ]
  },
  {
   "cell_type": "markdown",
   "metadata": {},
   "source": [
    "#### d) $𝑥 − 0.8 − 0.2$ $sen 𝑥 = 0$, [0, 𝜋⁄2]\n",
    "\n"
   ]
  },
  {
   "cell_type": "code",
   "execution_count": 12,
   "metadata": {},
   "outputs": [
    {
     "name": "stdout",
     "output_type": "stream",
     "text": [
      "El resultado de la ecuación x - 0.8 - 0.2 * sin(x) = 0 es: 0.96433388769850869604\n",
      "Se alcanzó la solución en 4 iteraciones.\n"
     ]
    }
   ],
   "source": [
    "from math import sin, pi\n",
    "def f(x):\n",
    "    return x - 0.8 - 0.2 * sin(x)\n",
    "def metodo_secante(x0, x1, tolerancia, max_iteraciones):\n",
    "    for iteracion in range(1, max_iteraciones + 1):\n",
    "        # Evitar división por cero\n",
    "        denominador = f(x1) - f(x0)\n",
    "        if denominador == 0:\n",
    "            print(\"Error: El denominador es cero. No se puede continuar con el método de la secante.\")\n",
    "            return None\n",
    "        # Método de la secante\n",
    "        x2 = x1 - f(x1) * (x1 - x0) / denominador\n",
    "        # Verificar si la diferencia es menor que la tolerancia\n",
    "        if abs(x2 - x1) < tolerancia:\n",
    "            return x2, iteracion\n",
    "        # Actualizar los valores para la siguiente iteración\n",
    "        x0 = x1\n",
    "        x1 = x2\n",
    "    # Si no se alcanza la tolerancia en el número máximo de iteraciones\n",
    "    return x1, max_iteraciones\n",
    "def main():\n",
    "    x0 = 0      # Primer valor inicial\n",
    "    x1 = pi / 4 # Segundo valor inicial\n",
    "    tolerancia = 1e-4\n",
    "    max_iteraciones = 100\n",
    "    # Llamar al método de la secante\n",
    "    solucion, iteraciones = metodo_secante(x0, x1, tolerancia, max_iteraciones)\n",
    "    if solucion is not None:\n",
    "        print(f\"El resultado de la ecuación x - 0.8 - 0.2 * sin(x) = 0 es: {solucion:.20f}\")\n",
    "        print(f\"Se alcanzó la solución en {iteraciones} iteraciones.\")\n",
    "    else:\n",
    "        print(\"No se pudo encontrar una solución válida.\")\n",
    "main()"
   ]
  },
  {
   "cell_type": "markdown",
   "metadata": {},
   "source": [
    "### 3. Use los 2 métodos en esta sección para encontrar las soluciones dentro de $10^−5$ para los siguientes problemas."
   ]
  },
  {
   "cell_type": "markdown",
   "metadata": {},
   "source": [
    "#### a) $3𝑥 − e^𝑥 = 0$ para $1 ≤ 𝑥 ≤ 2$"
   ]
  },
  {
   "cell_type": "markdown",
   "metadata": {},
   "source": [
    "##### METODO DE NEWTON"
   ]
  },
  {
   "cell_type": "code",
   "execution_count": 20,
   "metadata": {},
   "outputs": [
    {
     "name": "stdout",
     "output_type": "stream",
     "text": [
      "La solución para la ecuación 3x - e^x = 0 es 1.51213455165785037870\n",
      "Se alcanzó la solución en 3 iteraciones.\n"
     ]
    }
   ],
   "source": [
    "from math import exp\n",
    "def f(x):\n",
    "    return 3*x - exp(x)\n",
    "def f_derivada(x):\n",
    "    return 3 - exp(x)\n",
    "def metodo_newton(x0, tolerancia, max_iteraciones):\n",
    "    for iteracion in range(1, max_iteraciones + 1):\n",
    "        # Evitar división por cero\n",
    "        derivada = f_derivada(x0)\n",
    "        if derivada == 0:\n",
    "            print(\"Error: La derivada es cero. No se puede continuar con el método de Newton.\")\n",
    "            return None\n",
    "        # Método de Newton\n",
    "        x1 = x0 - f(x0) / derivada\n",
    "        # Verificar si la diferencia es menor que la tolerancia\n",
    "        if abs(x1 - x0) < tolerancia:\n",
    "            return x1, iteracion\n",
    "        # Actualizar el valor de x0 para la siguiente iteración\n",
    "        x0 = x1\n",
    "    # Si no se alcanza la tolerancia en el número máximo de iteraciones\n",
    "    return x0, max_iteraciones\n",
    "def main():\n",
    "    x0 = 1.5  # Punto inicial dentro del intervalo [1, 2]\n",
    "    tolerancia = 1e-5\n",
    "    max_iteraciones = 100\n",
    "    # Llamar al método de Newton\n",
    "    solucion, iteraciones = metodo_newton(x0, tolerancia, max_iteraciones)\n",
    "    if solucion is not None:\n",
    "        print(f\"La solución para la ecuación 3x - e^x = 0 es {solucion:.20f}\")\n",
    "        print(f\"Se alcanzó la solución en {iteraciones} iteraciones.\")\n",
    "    else:\n",
    "        print(\"No se pudo encontrar una solución válida.\")\n",
    "main()"
   ]
  },
  {
   "cell_type": "markdown",
   "metadata": {},
   "source": [
    "##### METODO DE LA SECANTE"
   ]
  },
  {
   "cell_type": "code",
   "execution_count": 22,
   "metadata": {},
   "outputs": [
    {
     "name": "stdout",
     "output_type": "stream",
     "text": [
      "La solución para la ecuación 3x - e^x = 0 es 1.51213455165513654954\n",
      "Se alcanzó la solución en 5 iteraciones.\n"
     ]
    }
   ],
   "source": [
    "from math import exp\n",
    "def f(x):\n",
    "    return 3*x - exp(x)\n",
    "def metodo_secante(x0, x1, tolerancia, max_iteraciones):\n",
    "    for iteracion in range(1, max_iteraciones + 1):\n",
    "        # Evitar división por cero\n",
    "        denominador = f(x1) - f(x0)\n",
    "        if denominador == 0:\n",
    "            print(\"Error: El denominador es cero. No se puede continuar con el método de la secante.\")\n",
    "            return None\n",
    "        # Método de la secante\n",
    "        x2 = x1 - f(x1) * (x1 - x0) / denominador\n",
    "        # Verificar si la diferencia es menor que la tolerancia\n",
    "        if abs(x2 - x1) < tolerancia:\n",
    "            return x2, iteracion\n",
    "        # Actualizar los valores para la siguiente iteración\n",
    "        x0 = x1\n",
    "        x1 = x2\n",
    "    # Si no se alcanza la tolerancia en el número máximo de iteraciones\n",
    "    return x1, max_iteraciones\n",
    "def main():\n",
    "    x0 = 1.5  # Primer valor inicial\n",
    "    x1 = 2    # Segundo valor inicial\n",
    "    tolerancia = 1e-5\n",
    "    max_iteraciones = 100\n",
    "    # Llamar al método de la secante\n",
    "    solucion, iteraciones = metodo_secante(x0, x1, tolerancia, max_iteraciones)\n",
    "    if solucion is not None:\n",
    "        print(f\"La solución para la ecuación 3x - e^x = 0 es {solucion:.20f}\")\n",
    "        print(f\"Se alcanzó la solución en {iteraciones} iteraciones.\")\n",
    "    else:\n",
    "        print(\"No se pudo encontrar una solución válida.\")\n",
    "main()"
   ]
  },
  {
   "cell_type": "markdown",
   "metadata": {},
   "source": [
    "#### b) $2𝑥 + 3 cos (𝑥) − e^𝑥 = 0$ para $1 ≤ 𝑥 ≤ 2$\n"
   ]
  },
  {
   "cell_type": "markdown",
   "metadata": {},
   "source": [
    "##### METODO DE NEWTON"
   ]
  },
  {
   "cell_type": "code",
   "execution_count": 24,
   "metadata": {},
   "outputs": [
    {
     "name": "stdout",
     "output_type": "stream",
     "text": [
      "La solución de la ecuación 2x + 3 * cos(x) - e^x = 0 es: 1.23971469797522115819\n",
      "Se alcanzó la solución en 4 iteraciones.\n"
     ]
    }
   ],
   "source": [
    "from math import cos, sin, exp\n",
    "def f(x):\n",
    "    return 2*x + 3*cos(x) - exp(x)\n",
    "def f_derivada(x):\n",
    "    return 2 - 3*sin(x) - exp(x)\n",
    "def metodo_newton(x0, tolerancia, max_iteraciones):\n",
    "    for iteracion in range(1, max_iteraciones + 1):\n",
    "        # Evitar división por cero\n",
    "        derivada = f_derivada(x0)\n",
    "        if derivada == 0:\n",
    "            print(\"Error: La derivada es cero. No se puede continuar con el método de Newton.\")\n",
    "            return None\n",
    "        # Método de Newton\n",
    "        x1 = x0 - f(x0) / derivada\n",
    "        # Verificar si la diferencia es menor que la tolerancia\n",
    "        if abs(x1 - x0) < tolerancia:\n",
    "            return x1, iteracion\n",
    "        # Actualizar el valor de x0 para la siguiente iteración\n",
    "        x0 = x1\n",
    "    # Si no se alcanza la tolerancia en el número máximo de iteraciones\n",
    "    return x0, max_iteraciones\n",
    "def main():\n",
    "    x0 = 1.5  # Punto inicial dentro del intervalo [1, 2]\n",
    "    tolerancia = 1e-5\n",
    "    max_iteraciones = 100\n",
    "    # Llamar al método de Newton\n",
    "    solucion, iteraciones = metodo_newton(x0, tolerancia, max_iteraciones)\n",
    "    if solucion is not None:\n",
    "        print(f\"La solución de la ecuación 2x + 3 * cos(x) - e^x = 0 es: {solucion:.20f}\")\n",
    "        print(f\"Se alcanzó la solución en {iteraciones} iteraciones.\")\n",
    "    else:\n",
    "        print(\"No se pudo encontrar una solución válida.\")\n",
    "main()"
   ]
  },
  {
   "cell_type": "markdown",
   "metadata": {},
   "source": [
    "##### METODO DE LA SECANTE"
   ]
  },
  {
   "cell_type": "code",
   "execution_count": 26,
   "metadata": {},
   "outputs": [
    {
     "name": "stdout",
     "output_type": "stream",
     "text": [
      "La solución de la ecuación 2x + 3 * cos(x) - e^x = 0 es: 1.23971470099049785318\n",
      "Se alcanzó la solución en 5 iteraciones.\n"
     ]
    }
   ],
   "source": [
    "from math import cos, sin, exp\n",
    "def f(x):\n",
    "    return 2*x + 3*cos(x) - exp(x)\n",
    "def metodo_secante(x0, x1, tolerancia, max_iteraciones):\n",
    "    for iteracion in range(1, max_iteraciones + 1):\n",
    "        # Evitar división por cero\n",
    "        denominador = f(x1) - f(x0)\n",
    "        if denominador == 0:\n",
    "            print(\"Error: El denominador es cero. No se puede continuar con el método de la secante.\")\n",
    "            return None\n",
    "        # Método de la secante\n",
    "        x2 = x1 - f(x1) * (x1 - x0) / denominador\n",
    "        # Verificar si la diferencia es menor que la tolerancia\n",
    "        if abs(x2 - x1) < tolerancia:\n",
    "            return x2, iteracion\n",
    "        # Actualizar los valores para la siguiente iteración\n",
    "        x0 = x1\n",
    "        x1 = x2\n",
    "    # Si no se alcanza la tolerancia en el número máximo de iteraciones\n",
    "    return x1, max_iteraciones\n",
    "def main():\n",
    "    x0 = 1.5  # Primer valor inicial\n",
    "    x1 = 2    # Segundo valor inicial\n",
    "    tolerancia = 1e-5\n",
    "    max_iteraciones = 100\n",
    "    # Llamar al método de la secante\n",
    "    solucion, iteraciones = metodo_secante(x0, x1, tolerancia, max_iteraciones)\n",
    "    if solucion is not None:\n",
    "        print(f\"La solución de la ecuación 2x + 3 * cos(x) - e^x = 0 es: {solucion:.20f}\")\n",
    "        print(f\"Se alcanzó la solución en {iteraciones} iteraciones.\")\n",
    "    else:\n",
    "        print(\"No se pudo encontrar una solución válida.\")\n",
    "main()"
   ]
  },
  {
   "cell_type": "markdown",
   "metadata": {},
   "source": [
    "### 4. El polinomio de cuarto grado $$𝑓(𝑥) = 230𝑥^4 + 18𝑥^3 + 9𝑥^2 − 221𝑥 − 9$$ tiene dos ceros reales, uno en [−1,0] y el otro en [0,1]. Intente aproximar estos ceros dentro de $10^−6$ con:"
   ]
  },
  {
   "cell_type": "markdown",
   "metadata": {},
   "source": [
    "#### a) El método de la secante (use los extremos como las estimaciones iniciales)"
   ]
  },
  {
   "cell_type": "code",
   "execution_count": 29,
   "metadata": {},
   "outputs": [
    {
     "name": "stdout",
     "output_type": "stream",
     "text": [
      "La solución del polinomio de cuarto grado es: -0.04065928831572513530\n",
      "Se alcanzó la solución en 4 iteraciones.\n"
     ]
    }
   ],
   "source": [
    "def f(x):\n",
    "    return 230*x**4 + 18*x**3 + 9*x**2 - 221*x - 9\n",
    "def metodo_secante(x0, x1, tolerancia, max_iteraciones):\n",
    "    for iteracion in range(1, max_iteraciones + 1):\n",
    "        # Evitar división por cero\n",
    "        denominador = f(x1) - f(x0)\n",
    "        if denominador == 0:\n",
    "            print(\"Error: El denominador es cero. No se puede continuar con el método de la secante.\")\n",
    "            return None\n",
    "        # Método de la secante\n",
    "        x2 = x1 - f(x1) * (x1 - x0) / denominador\n",
    "        # Verificar si la diferencia es menor que la tolerancia\n",
    "        if abs(x2 - x1) < tolerancia:\n",
    "            return x2, iteracion\n",
    "        # Actualizar los valores para la siguiente iteración\n",
    "        x0 = x1\n",
    "        x1 = x2\n",
    "    # Si no se alcanza la tolerancia en el número máximo de iteraciones\n",
    "    return x1, max_iteraciones\n",
    "def main():\n",
    "    x0 = -1  # Primer valor inicial\n",
    "    x1 = 0   # Segundo valor inicial\n",
    "    tolerancia = 1e-6\n",
    "    max_iteraciones = 100\n",
    "    # Llamar al método de la secante\n",
    "    solucion, iteraciones = metodo_secante(x0, x1, tolerancia, max_iteraciones)\n",
    "    if solucion is not None:\n",
    "        print(f\"La solución del polinomio de cuarto grado es: {solucion:.20f}\")\n",
    "        print(f\"Se alcanzó la solución en {iteraciones} iteraciones.\")\n",
    "    else:\n",
    "        print(\"No se pudo encontrar una solución válida.\")\n",
    "main()"
   ]
  },
  {
   "cell_type": "markdown",
   "metadata": {},
   "source": [
    "#### b) El método de Newton (use el punto medio como estimación inicial)"
   ]
  },
  {
   "cell_type": "code",
   "execution_count": 34,
   "metadata": {},
   "outputs": [
    {
     "name": "stdout",
     "output_type": "stream",
     "text": [
      "La solución del polinomio de cuarto grado es: -0.04065928831575886526\n",
      "Se alcanzó la solución en 6 iteraciones.\n"
     ]
    }
   ],
   "source": [
    "def f(x):\n",
    "    return 230*x**4 + 18*x**3 + 9*x**2 - 221*x - 9\n",
    "def f_derivada(x):\n",
    "    return 920*x**3 + 54*x**2 + 18*x - 221\n",
    "def metodo_newton(x0, tolerancia, max_iteraciones):\n",
    "    for iteracion in range(1, max_iteraciones + 1):\n",
    "        # Evitar división por cero\n",
    "        derivada = f_derivada(x0)\n",
    "        if derivada == 0:\n",
    "            print(\"Error: La derivada es cero. No se puede continuar con el método de Newton.\")\n",
    "            return None\n",
    "        # Método de Newton\n",
    "        x1 = x0 - f(x0) / derivada\n",
    "        # Verificar si la diferencia es menor que la tolerancia\n",
    "        if abs(x1 - x0) < tolerancia:\n",
    "            return x1, iteracion\n",
    "        # Actualizar el valor de x0 para la siguiente iteración\n",
    "        x0 = x1\n",
    "    # Si no se alcanza la tolerancia en el número máximo de iteraciones\n",
    "    return x0, max_iteraciones\n",
    "def main():\n",
    "    x0 = 0.5  # Valor inicial\n",
    "    tolerancia = 1e-6\n",
    "    max_iteraciones = 100\n",
    "    # Llamar al método de Newton\n",
    "    solucion, iteraciones = metodo_newton(x0, tolerancia, max_iteraciones)\n",
    "    if solucion is not None:\n",
    "        print(f\"La solución del polinomio de cuarto grado es: {solucion:.20f}\")\n",
    "        print(f\"Se alcanzó la solución en {iteraciones} iteraciones.\")\n",
    "    else:\n",
    "        print(\"No se pudo encontrar una solución válida.\")\n",
    "main()"
   ]
  },
  {
   "cell_type": "markdown",
   "metadata": {},
   "source": [
    "### 5. La función $𝑓(𝑥) = tan (𝜋) (𝑥 − 6)$ tiene cero en (1/𝜋) arcotangente 6 ≈ 0.447431543. Sea $𝑝_0 = 0$ y $𝑝_1 = 0.48$ y use 10 iteraciones en cada uno de los siguientes métodos para aproximar esta raíz. ¿Cuál método es más eficaz y por qué?"
   ]
  },
  {
   "cell_type": "markdown",
   "metadata": {},
   "source": [
    "#### a) método de bisección"
   ]
  },
  {
   "cell_type": "code",
   "execution_count": 41,
   "metadata": {},
   "outputs": [
    {
     "name": "stdout",
     "output_type": "stream",
     "text": [
      "La solución de la ecuación tan(pi * x) - 6 = 0 es: 0.44765624999999997780\n",
      "Se alcanzó la solución en 10 iteraciones.\n"
     ]
    }
   ],
   "source": [
    "from math import tan, pi\n",
    "def f(x):\n",
    "    return tan(pi * x) - 6\n",
    "def metodo_biseccion(a, b, tolerancia, max_iteraciones):\n",
    "    # Verificar que los valores iniciales estén en lados opuestos del cero\n",
    "    if f(a) * f(b) >= 0:\n",
    "        print(f\"Error: Los valores iniciales a={a} y b={b} no están en lados opuestos.\")\n",
    "        return None\n",
    "    for iteracion in range(1, max_iteraciones + 1):\n",
    "        # Calcular el punto medio\n",
    "        c = (a + b) / 2\n",
    "        # Verificar si la diferencia es menor que la tolerancia\n",
    "        if abs(f(c)) < tolerancia:\n",
    "            return c, iteracion\n",
    "        # Actualizar los límites dependiendo del signo de f(c)\n",
    "        if f(a) * f(c) < 0:\n",
    "            b = c  # La raíz está entre a y c\n",
    "        else:\n",
    "            a = c  # La raíz está entre c y b\n",
    "    # Si no se alcanza la tolerancia en el número máximo de iteraciones\n",
    "    return c, max_iteraciones\n",
    "def main():\n",
    "    a = 0     # Límite inferior\n",
    "    b = 0.48  # Límite superior\n",
    "    tolerancia = 1e-6\n",
    "    max_iteraciones = 10\n",
    "    # Llamar al método de bisección\n",
    "    solucion, iteraciones = metodo_biseccion(a, b, tolerancia, max_iteraciones)\n",
    "    if solucion is not None:\n",
    "        print(f\"La solución de la ecuación tan(pi * x) - 6 = 0 es: {solucion:.20f}\")\n",
    "        print(f\"Se alcanzó la solución en {iteraciones} iteraciones.\")\n",
    "    else:\n",
    "        print(\"No se pudo encontrar una solución válida.\")\n",
    "main()"
   ]
  },
  {
   "cell_type": "markdown",
   "metadata": {},
   "source": [
    "#### b) método de Newton"
   ]
  },
  {
   "cell_type": "code",
   "execution_count": 42,
   "metadata": {},
   "outputs": [
    {
     "name": "stdout",
     "output_type": "stream",
     "text": [
      "La solución de la ecuación tan(pi * x) - 6 = 0 es: 20.01927971488975899206\n",
      "Se alcanzó la solución en 10 iteraciones.\n"
     ]
    }
   ],
   "source": [
    "from math import tan, pi, cos\n",
    "def f(x):\n",
    "    return tan(pi * x) - 6\n",
    "def f_derivada(x):\n",
    "    return pi * cos(pi * x)**2  # Derivada de tan(pi * x) es pi * cos^2(pi * x)\n",
    "def metodo_newton(x0, tolerancia, max_iteraciones):\n",
    "    for iteracion in range(1, max_iteraciones + 1):\n",
    "        # Evitar división por cero en la derivada\n",
    "        derivada = f_derivada(x0)\n",
    "        if derivada == 0:\n",
    "            print(f\"Error: La derivada es cero en la iteración {iteracion}. No se puede continuar con el método de Newton.\")\n",
    "            return None\n",
    "        # Método de Newton\n",
    "        x1 = x0 - f(x0) / derivada\n",
    "        # Verificar si la diferencia es menor que la tolerancia\n",
    "        if abs(x1 - x0) < tolerancia:\n",
    "            return x1, iteracion\n",
    "        # Actualizar el valor de x0 para la siguiente iteración\n",
    "        x0 = x1\n",
    "    # Si no se alcanza la tolerancia en el número máximo de iteraciones\n",
    "    return x0, max_iteraciones\n",
    "def main():\n",
    "    x0 = 0     # Valor inicial\n",
    "    tolerancia = 1e-6\n",
    "    max_iteraciones = 10\n",
    "    # Llamar al método de Newton\n",
    "    solucion, iteraciones = metodo_newton(x0, tolerancia, max_iteraciones)\n",
    "    if solucion is not None:\n",
    "        print(f\"La solución de la ecuación tan(pi * x) - 6 = 0 es: {solucion:.20f}\")\n",
    "        print(f\"Se alcanzó la solución en {iteraciones} iteraciones.\")\n",
    "    else:\n",
    "        print(\"No se pudo encontrar una solución válida.\")\n",
    "main()"
   ]
  },
  {
   "cell_type": "markdown",
   "metadata": {},
   "source": [
    "#### c) método de la secante"
   ]
  },
  {
   "cell_type": "code",
   "execution_count": 43,
   "metadata": {},
   "outputs": [
    {
     "name": "stdout",
     "output_type": "stream",
     "text": [
      "La solución de la ecuación tan(pi * x) - 6 = 0 es: -2989.94003753144534130115\n",
      "Se alcanzó la solución en 10 iteraciones.\n"
     ]
    }
   ],
   "source": [
    "from math import tan, pi\n",
    "def f(x):\n",
    "    return tan(pi * x) - 6\n",
    "def metodo_secante(x0, x1, tolerancia, max_iteraciones):\n",
    "    for iteracion in range(1, max_iteraciones + 1):\n",
    "        # Evitar división por cero\n",
    "        denominador = f(x1) - f(x0)\n",
    "        if denominador == 0:\n",
    "            print(f\"Error: El denominador es cero en la iteración {iteracion}. No se puede continuar con el método de la secante.\")\n",
    "            return None\n",
    "        # Método de la secante\n",
    "        x2 = x1 - f(x1) * (x1 - x0) / denominador\n",
    "        # Verificar si la diferencia es menor que la tolerancia\n",
    "        if abs(x2 - x1) < tolerancia:\n",
    "            return x2, iteracion\n",
    "        # Actualizar los valores para la siguiente iteración\n",
    "        x0 = x1\n",
    "        x1 = x2\n",
    "    # Si no se alcanza la tolerancia en el número máximo de iteraciones\n",
    "    return x1, max_iteraciones\n",
    "def main():\n",
    "    x0 = 0     # Primer valor inicial\n",
    "    x1 = 0.48  # Segundo valor inicial\n",
    "    tolerancia = 1e-6\n",
    "    max_iteraciones = 10\n",
    "    # Llamar al método de la secante\n",
    "    solucion, iteraciones = metodo_secante(x0, x1, tolerancia, max_iteraciones)\n",
    "    if solucion is not None:\n",
    "        print(f\"La solución de la ecuación tan(pi * x) - 6 = 0 es: {solucion:.20f}\")\n",
    "        print(f\"Se alcanzó la solución en {iteraciones} iteraciones.\")\n",
    "    else:\n",
    "        print(\"No se pudo encontrar una solución válida.\")\n",
    "main()"
   ]
  },
  {
   "cell_type": "markdown",
   "metadata": {},
   "source": [
    "### 6. La función descrita por $𝑓(𝑥) = ln(𝑥^2 + 1) − e^{0.4𝑥}cos(𝜋𝑥)$ tiene un número infinito de ceros"
   ]
  },
  {
   "cell_type": "markdown",
   "metadata": {},
   "source": [
    "#### a) Determine, dentro de $10^−6$, el único cero negativo."
   ]
  },
  {
   "cell_type": "code",
   "execution_count": 45,
   "metadata": {},
   "outputs": [
    {
     "name": "stdout",
     "output_type": "stream",
     "text": [
      "La solución aproximada es x = 0.45065674788994031230, encontrada en 6 iteraciones.\n"
     ]
    }
   ],
   "source": [
    "from math import log, exp, cos, sin, pi\n",
    "def f(x):\n",
    "    return log(x**2 + 1) - exp(0.4 * x) * cos(pi * x)\n",
    "def f_derivada(x):\n",
    "    return (2 * x) / (x**2 + 1) - 0.4 * exp(0.4 * x) * cos(pi * x) + pi * exp(0.4 * x) * sin(pi * x)\n",
    "def metodo_newton():\n",
    "    p0 = -1  # Valor inicial\n",
    "    tolerancia = 1e-6\n",
    "    max_iteraciones = 100\n",
    "    for i in range(1, max_iteraciones + 1):\n",
    "        derivada = f_derivada(p0)\n",
    "        # Verificar si la derivada es cero para evitar divisiones\n",
    "        if derivada == 0:\n",
    "            return f\"Error: La derivada es cero en x = {p0}. El método de Newton no puede continuar.\"\n",
    "        p1 = p0 - f(p0) / derivada\n",
    "        # Verificar si la solución cumple con la tolerancia\n",
    "        if abs(p1 - p0) < tolerancia:\n",
    "            return f\"La solución aproximada es x = {p1:.20f}, encontrada en {i} iteraciones.\"\n",
    "        p0 = p1\n",
    "    return f\"No se encontró una solución dentro de la tolerancia después de {max_iteraciones} iteraciones.\"\n",
    "# Ejecutar el método y mostrar el resultado\n",
    "resultado = metodo_newton()\n",
    "print(resultado)"
   ]
  },
  {
   "cell_type": "markdown",
   "metadata": {},
   "source": [
    "#### b) Determine, dentro de $10^−6$, los cuatro ceros positivos más pequeños"
   ]
  },
  {
   "cell_type": "code",
   "execution_count": 49,
   "metadata": {},
   "outputs": [
    {
     "name": "stdout",
     "output_type": "stream",
     "text": [
      "Se encontraron 3 soluciones: ['-0.43414304728572877812', '0.45065674788994031230', '1.74473805336834963953']\n"
     ]
    }
   ],
   "source": [
    "from math import log, exp, cos, sin, pi\n",
    "def f(x):\n",
    "    return log(x**2 + 1) - exp(0.4 * x) * cos(pi * x)\n",
    "def f_derivada(x):\n",
    "    return (2 * x) / (x**2 + 1) - 0.4 * exp(0.4 * x) * cos(pi * x) + pi * exp(0.4 * x) * sin(pi * x)\n",
    "def encontrar_ceros():\n",
    "    soluciones = []\n",
    "    tolerancia = 1e-6\n",
    "    max_iteraciones = 100\n",
    "    puntos_iniciales = [-2, -1, 0.5, 1.5]  # Selección de puntos iniciales para buscar raíces\n",
    "    for p0 in puntos_iniciales:\n",
    "        for i in range(max_iteraciones):\n",
    "            derivada = f_derivada(p0)\n",
    "            if derivada == 0:\n",
    "                break  # Si la derivada es cero, el método no puede continuar\n",
    "            p1 = p0 - f(p0) / derivada\n",
    "            if abs(p1 - p0) < tolerancia:  # Se considera que hemos encontrado una raíz\n",
    "                # Verificar si la raíz ya fue encontrada\n",
    "                if all(abs(p1 - s) > tolerancia for s in soluciones):\n",
    "                    soluciones.append(p1)\n",
    "                break\n",
    "            p0 = p1\n",
    "    if soluciones:\n",
    "        return f\"Se encontraron {len(soluciones)} soluciones: {[f'{s:.20f}' for s in soluciones]}\"\n",
    "    else:\n",
    "        return \"No se encontraron soluciones en el rango especificado.\"\n",
    "# Ejecutar el método y mostrar el resultado\n",
    "resultado = encontrar_ceros()\n",
    "print(resultado)"
   ]
  },
  {
   "cell_type": "markdown",
   "metadata": {},
   "source": [
    "#### c) Determine una aproximación inicial razonable para encontrar el enésimo cero positivo más pequeño de 𝑓.[Sugerencia: Dibuje una gráfica aproximada de 𝑓.]"
   ]
  },
  {
   "cell_type": "code",
   "execution_count": 84,
   "metadata": {},
   "outputs": [
    {
     "data": {
      "image/png": "[encoded data removed]",
      "text/plain": [
       "<Figure size 1000x600 with 1 Axes>"
      ]
     },
     "metadata": {},
     "output_type": "display_data"
    },
    {
     "name": "stdout",
     "output_type": "stream",
     "text": [
      "La aproximación inicial para el 3-ésimo cero positivo más pequeño es: 2.2322\n"
     ]
    }
   ],
   "source": [
    "import numpy as np\n",
    "import matplotlib.pyplot as plt\n",
    "from math import log, exp, cos, pi\n",
    "\n",
    "# Definimos la función f(x)\n",
    "def f(x):\n",
    "    return np.log(x**2 + 1) - np.exp(0.4 * x) * np.cos(np.pi * x)\n",
    "\n",
    "# Gráfica de la función\n",
    "def graficar_funcion():\n",
    "    x = np.linspace(0, 20, 1000)  # Valores de x desde 0 a 10 con alta resolución\n",
    "    y = f(x)\n",
    "    \n",
    "    plt.figure(figsize=(10, 6))\n",
    "    plt.plot(x, y, label=r\"$f(x) = \\ln(x^2 + 1) - e^{0.4x}\\cos(\\pi x)$\", color=\"blue\")\n",
    "    plt.axhline(0, color=\"red\", linestyle=\"--\", linewidth=1.5, label=\"Eje x (f(x)=0)\")\n",
    "    plt.title(\"Gráfica de $f(x)$\")\n",
    "    plt.xlabel(\"$x$\")\n",
    "    plt.ylabel(\"$f(x)$\")\n",
    "    plt.grid(True)\n",
    "    plt.legend()\n",
    "    plt.show()\n",
    "\n",
    "# Función para aproximar el enésimo cero positivo más pequeño\n",
    "def aproximacion_ceros(n):\n",
    "    # Buscamos los valores de x donde f(x) cambia de signo\n",
    "    x = np.linspace(0, 10, 1000)\n",
    "    y = f(x)\n",
    "    cambios_signo = []\n",
    "    \n",
    "    for i in range(1, len(x)):\n",
    "        if y[i-1] * y[i] < 0:  # Cambio de signo\n",
    "            cambios_signo.append(x[i-1])  # Guardamos la aproximación inicial\n",
    "    \n",
    "    if n <= len(cambios_signo):\n",
    "        return f\"La aproximación inicial para el {n}-ésimo cero positivo más pequeño es: {cambios_signo[n-1]:.4f}\"\n",
    "    else:\n",
    "        return f\"No se encontró el {n}-ésimo cero positivo más pequeño en el rango dado.\"\n",
    "\n",
    "# Ejecutar las funciones\n",
    "graficar_funcion()\n",
    "n = 3  # Cambia este valor para buscar otro enésimo cero\n",
    "resultado = aproximacion_ceros(n)\n",
    "print(resultado)"
   ]
  },
  {
   "cell_type": "markdown",
   "metadata": {},
   "source": [
    "#### d) Use la parte c) para determinar, dentro de $10^−6$, el vigesimoquinto cero positivo más pequeño de 𝑓"
   ]
  },
  {
   "cell_type": "code",
   "execution_count": 87,
   "metadata": {},
   "outputs": [
    {
     "data": {
      "image/png": "[encoded data removed]",
      "text/plain": [
       "<Figure size 1200x600 with 1 Axes>"
      ]
     },
     "metadata": {},
     "output_type": "display_data"
    },
    {
     "name": "stdout",
     "output_type": "stream",
     "text": [
      "El vigesimoquinto cero positivo de la función es aproximadamente: 24.49988676018327993233\n"
     ]
    }
   ],
   "source": [
    "import numpy as np\n",
    "import matplotlib.pyplot as plt\n",
    "from math import log, exp, cos, pi\n",
    "# Definición de la función\n",
    "def f(x):\n",
    "    return np.log(x**2 + 1) - np.exp(0.4 * x) * np.cos(np.pi * x)\n",
    "# Graficar la función en un rango amplio\n",
    "x = np.linspace(0, 100, 10000)  # Extender el intervalo para localizar el 25º cero\n",
    "y = f(x)\n",
    "plt.figure(figsize=(12, 6))\n",
    "plt.plot(x, y, label=r\"$f(x) = \\ln(x^2 + 1) - e^{0.4x} \\cos(\\pi x)$\", color='blue')\n",
    "plt.axhline(0, color='red', linestyle='--', label=\"Eje $x$\")\n",
    "plt.title(\"Gráfica de $f(x)$ en un rango amplio para localizar ceros\")\n",
    "plt.xlabel(\"$x$\")\n",
    "plt.ylabel(\"$f(x)$\")\n",
    "plt.legend()\n",
    "plt.grid()\n",
    "plt.show()\n",
    "# Localización de intervalos iniciales para los ceros\n",
    "cero_indices = np.where(np.diff(np.sign(y)))[0]  # Indices donde f(x) cruza el eje\n",
    "cero_aproximaciones = x[cero_indices]  # Valores aproximados de los ceros\n",
    "# Seleccionar el 25º cero positivo\n",
    "if len(cero_aproximaciones) >= 25:\n",
    "    inicial_25 = (cero_aproximaciones[24] - 0.1, cero_aproximaciones[24] + 0.1)  # Intervalo ajustado alrededor del 25º cero\n",
    "else:\n",
    "    raise ValueError(\"No se encontraron suficientes ceros en el intervalo graficado.\")\n",
    "# Método de bisección para refinar el 25º cero\n",
    "def biseccion(f, a, b, tolerancia=1e-6, max_iter=100):\n",
    "    if f(a) * f(b) > 0:\n",
    "        raise ValueError(\"El intervalo no contiene un cambio de signo.\")\n",
    "    for _ in range(max_iter):\n",
    "        c = (a + b) / 2\n",
    "        if abs(f(c)) < tolerancia or abs(b - a) < tolerancia:\n",
    "            return c\n",
    "        if f(a) * f(c) < 0:\n",
    "            b = c\n",
    "        else:\n",
    "            a = c\n",
    "    return None\n",
    "# Refinar el 25º cero\n",
    "cero_25 = biseccion(f, inicial_25[0], inicial_25[1])\n",
    "print(f\"El vigesimoquinto cero positivo de la función es aproximadamente: {cero_25:.20f}\")"
   ]
  },
  {
   "cell_type": "markdown",
   "metadata": {},
   "source": [
    "### 7. La función $𝑓(𝑥) = 𝑥^{1/3}$ tiene raíz en $𝑥 = 0$.Usando el punto de inicio de $𝑥 = 1$ y $𝑝_0 = 5$, $𝑝_1 = 0.5$ para el método de secante, compare los resultados de los métodos de la secante y de Newton."
   ]
  },
  {
   "cell_type": "code",
   "execution_count": 91,
   "metadata": {},
   "outputs": [
    {
     "name": "stdout",
     "output_type": "stream",
     "text": [
      "Resultados:\n",
      "Método de Newton: solución = None, iteraciones = 100\n",
      "Método de la Secante: solución = None, iteraciones = 100\n"
     ]
    }
   ],
   "source": [
    "import numpy as np\n",
    "# Definición de la función y su derivada\n",
    "def f(x):\n",
    "    return x**(1/3)\n",
    "def f_derivada(x):\n",
    "    return (1 / 3) * x**(-2/3)\n",
    "# Método de Newton\n",
    "def metodo_newton(f, f_derivada, p0, tolerancia=1e-6, max_iter=100):\n",
    "    iteraciones = 0\n",
    "    for i in range(max_iter):\n",
    "        p1 = p0 - f(p0) / f_derivada(p0)\n",
    "        iteraciones += 1\n",
    "        if abs(p1 - p0) < tolerancia:\n",
    "            return p1, iteraciones\n",
    "        p0 = p1\n",
    "    return None, iteraciones  # No converge\n",
    "# Método de la Secante\n",
    "def metodo_secante(f, p0, p1, tolerancia=1e-6, max_iter=100):\n",
    "    iteraciones = 0\n",
    "    for i in range(max_iter):\n",
    "        if f(p1) - f(p0) == 0:\n",
    "            return None, iteraciones  # Evitar división por cero\n",
    "        p2 = p1 - f(p1) * (p1 - p0) / (f(p1) - f(p0))\n",
    "        iteraciones += 1\n",
    "        if abs(p2 - p1) < tolerancia:\n",
    "            return p2, iteraciones\n",
    "        p0, p1 = p1, p2\n",
    "    return None, iteraciones  # No converge\n",
    "# Parámetros iniciales\n",
    "p0_newton = 1\n",
    "p0_secante = 5\n",
    "p1_secante = 0.5\n",
    "tolerancia = 1e-6\n",
    "# Resolver con el método de Newton\n",
    "solucion_newton, iteraciones_newton = metodo_newton(f, f_derivada, p0_newton, tolerancia)\n",
    "# Resolver con el método de la Secante\n",
    "solucion_secante, iteraciones_secante = metodo_secante(f, p0_secante, p1_secante, tolerancia)\n",
    "# Mostrar resultados\n",
    "print(\"Resultados:\")\n",
    "print(f\"Método de Newton: solución = {solucion_newton}, iteraciones = {iteraciones_newton}\")\n",
    "print(f\"Método de la Secante: solución = {solucion_secante}, iteraciones = {iteraciones_secante}\")"
   ]
  }
 ],
 "metadata": {
  "kernelspec": {
   "display_name": "Python 3",
   "language": "python",
   "name": "python3"
  },
  "language_info": {
   "codemirror_mode": {
    "name": "ipython",
    "version": 3
   },
   "file_extension": ".py",
   "mimetype": "text/x-python",
   "name": "python",
   "nbconvert_exporter": "python",
   "pygments_lexer": "ipython3",
   "version": "3.11.9"
  }
 },
 "nbformat": 4,
 "nbformat_minor": 2
}
