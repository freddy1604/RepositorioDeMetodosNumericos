{
 "cells": [
  {
   "cell_type": "markdown",
   "metadata": {},
   "source": [
    "# ESCUELA POLITECNICA NACIONAL\n",
    "- Nombre: Freddy Jimenez\n",
    "- Curso: Gr1cc\n",
    "- Fecha: 03/01/2025"
   ]
  },
  {
   "cell_type": "markdown",
   "metadata": {},
   "source": [
    "## Repositorio. -\n",
    "\n",
    "Link: https://github.com/freddy1604/RepositorioDeMetodosNumericos/tree/main/%5BActividad%20extracurricular%2011%5D%20curso%20de%20git%20y%20Github"
   ]
  },
  {
   "cell_type": "markdown",
   "metadata": {},
   "source": [
    "## Procedimiento. -\n",
    "- Completar curso online de git y Github\n",
    "- Crear repositorio de pruebas"
   ]
  },
  {
   "cell_type": "markdown",
   "metadata": {},
   "source": [
    "#### Configurar Git con tu nombre y correo\n",
    "- git config --global user.name \"TuNombre\"\n",
    "- git config --global user.email \"tuemail@ejemplo.com\"\n",
    "\n",
    "#### Inicializar un nuevo repositorio local\n",
    "- git init\n",
    "\n",
    "#### Crear un archivo de prueba\n",
    "- echo \"Esto es un archivo de prueba para Git\" > archivo-prueba.txt\n",
    "\n",
    "#### Ver el estado del repositorio\n",
    "- git status\n",
    "\n",
    "#### Añadir el archivo al área de preparación (staging)\n",
    "- git add archivo-prueba.txt\n",
    "\n",
    "#### Hacer un commit con el mensaje correspondiente\n",
    "- git commit -m \"Añadir archivo de prueba\"\n",
    "\n",
    "#### Configurar el repositorio remoto\n",
    "- git remote add origin https://github.com/tu-usuario/repositorio.git\n",
    "\n",
    "#### Subir los cambios al repositorio remoto en la rama principal\n",
    "- git push origin main\n",
    "\n",
    "#### Crear otra rama y cambiar a ella\n",
    "- git branch nueva-rama\n",
    "- git checkout nueva-rama\n",
    "\n",
    "#### Crear otro archivo de prueba en la nueva rama\n",
    "- echo \"Este es otro archivo de prueba en nueva-rama\" > otro-archivo.txt\n",
    "\n",
    "#### Añadir el nuevo archivo, hacer commit y fusionar la rama\n",
    "- git add otro-archivo.txt\n",
    "- git commit -m \"Añadir archivo en nueva rama\"\n",
    "- git checkout main\n",
    "- git merge nueva-rama\n",
    "\n",
    "#### Subir los cambios fusionados al repositorio remoto\n",
    "- git push origin main\n",
    "\n",
    "#### Ver el historial de commits\n",
    "- git log --oneline\n",
    "\n",
    "#### Revertir cambios en un archivo no añadido al staging\n",
    "- git checkout -- archivo-prueba.txt\n",
    "\n",
    "#### Eliminar un archivo del repositorio y del sistema de archivos\n",
    "- git rm otro-archivo.txt\n",
    "- git commit -m \"Eliminar archivo innecesario\"\n",
    "\n",
    "#### Descargar y aplicar cambios desde el repositorio remoto\n",
    "- git pull origin main"
   ]
  },
  {
   "cell_type": "markdown",
   "metadata": {},
   "source": [
    "## Imagen Del video. -"
   ]
  },
  {
   "cell_type": "markdown",
   "metadata": {},
   "source": [
    "![](imagen1.png)"
   ]
  }
 ],
 "metadata": {
  "language_info": {
   "name": "python"
  }
 },
 "nbformat": 4,
 "nbformat_minor": 2
}
