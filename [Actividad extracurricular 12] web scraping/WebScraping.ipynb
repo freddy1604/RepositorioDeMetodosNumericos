{
 "cells": [
  {
   "cell_type": "raw",
   "metadata": {
    "vscode": {
     "languageId": "raw"
    }
   },
   "source": [
    "---\n",
    "title: \"[Actividad extracurricular 12] web scraping\"\n",
    "author: \"Freddy Jiménez\"\n",
    "date: 04/01/2025\n",
    "lang: es\n",
    "format: \n",
    "  pdf:\n",
    "    toc: true\n",
    "    toc-title: \"Tabla de Contenidos\"  \n",
    "execute:\n",
    "  echo: true\n",
    "  error: false\n",
    "  warning: false\n",
    "jupyter: python3\n",
    "---"
   ]
  },
  {
   "cell_type": "markdown",
   "metadata": {},
   "source": [
    "# ESCUELA POLITECNICA NACIONAL\n",
    "- NOMBRE: FREDDY JIMENEZ\n",
    "- CURSO: GR1CC\n",
    "- FECHA: 03/01/2025"
   ]
  },
  {
   "cell_type": "markdown",
   "metadata": {},
   "source": [
    "# REPOSITORIO. -\n",
    "\n",
    "LINK: https://github.com/freddy1604/RepositorioDeMetodosNumericos/tree/main/%5BActividad%20extracurricular%2012%5D%20web%20scraping"
   ]
  },
  {
   "cell_type": "markdown",
   "metadata": {},
   "source": [
    "# 1. OBJETIVOS. -\n",
    "- Comparar dos librerías para web scraping: BeautifulSoup y Scrapy.\n",
    "- Realizar un scraping de un sitio web para extraer datos útiles (e.g., títulos de artículos, precios de productos, etc.).\n",
    "- Documentar los resultados y reflexionar sobre las ventajas y limitaciones de cada herramienta."
   ]
  },
  {
   "cell_type": "markdown",
   "metadata": {},
   "source": [
    "# 2. INTRODUCCION. -\n",
    "Web scraping es una técnica de extracción automatizada de datos de sitios web. Se utiliza en diversos campos como análisis de datos, investigación, desarrollo de aplicaciones, entre otros. Herramientas como BeautifulSoup y Scrapy facilitan esta tarea al permitir navegar y extraer información estructurada desde el HTML de las páginas web."
   ]
  },
  {
   "cell_type": "markdown",
   "metadata": {},
   "source": [
    "# 3. PROCEDIMIENTO. -\n",
    "Web Scraping: BeautifulSoup vs Scrapy\n",
    "\n",
    "**Configuración inicial**\n",
    "\n",
    "- !pip install requests beautifulsoup4 pandas scrapy\n"
   ]
  },
  {
   "cell_type": "markdown",
   "metadata": {},
   "source": [
    "### 3.1. Web Scraping con BeautifulSoup. -"
   ]
  },
  {
   "cell_type": "code",
   "execution_count": 7,
   "metadata": {},
   "outputs": [
    {
     "name": "stdout",
     "output_type": "stream",
     "text": [
      "Datos extraídos con BeautifulSoup:\n",
      "                                                Cita          Autores\n",
      "0  “The world as we have created it is a process ...  Albert Einstein\n",
      "1  “It is our choices, Harry, that show what we t...     J.K. Rowling\n",
      "2  “There are only two ways to live your life. On...  Albert Einstein\n",
      "3  “The person, be it gentleman or lady, who has ...      Jane Austen\n",
      "4  “Imperfection is beauty, madness is genius and...   Marilyn Monroe\n"
     ]
    }
   ],
   "source": [
    "import requests\n",
    "from bs4 import BeautifulSoup\n",
    "import pandas as pd\n",
    "\n",
    "# URL del sitio web\n",
    "target_url = \"https://quotes.toscrape.com\"\n",
    "\n",
    "# Solicitud HTTP\n",
    "response = requests.get(target_url)\n",
    "soup = BeautifulSoup(response.text, 'html.parser')\n",
    "\n",
    "# Extracción de datos: Obtener citas y autores\n",
    "quotes = [quote.text.strip() for quote in soup.find_all('span', class_='text')]\n",
    "authors = [author.text.strip() for author in soup.find_all('small', class_='author')]\n",
    "\n",
    "# Guardar en un DataFrame\n",
    "data_bs = pd.DataFrame({\"Cita\": quotes, \"Autores\": authors})\n",
    "data_bs.to_csv(\"beautifulsoup_results.csv\", index=False)\n",
    "\n",
    "print(\"Datos extraídos con BeautifulSoup:\")\n",
    "print(data_bs.head())"
   ]
  },
  {
   "cell_type": "markdown",
   "metadata": {},
   "source": [
    "![](Imagen1.png)"
   ]
  },
  {
   "cell_type": "markdown",
   "metadata": {},
   "source": [
    "### 3.2. Web Scraping con Scrapy "
   ]
  },
  {
   "cell_type": "code",
   "execution_count": 14,
   "metadata": {},
   "outputs": [],
   "source": [
    "scrapy_code = '''\n",
    "import scrapy\n",
    "\n",
    "class QuotesSpider(scrapy.Spider):\n",
    "    name = \"quotes\"\n",
    "    start_urls = ['https://quotes.toscrape.com']\n",
    "\n",
    "    def parse(self, response):\n",
    "        for quote in response.css('div.quote'):\n",
    "            yield {\n",
    "                'Quote': quote.css('span.text::text').get(),\n",
    "                'Author': quote.css('small.author::text').get()\n",
    "            }\n",
    "'''"
   ]
  },
  {
   "cell_type": "code",
   "execution_count": 17,
   "metadata": {},
   "outputs": [
    {
     "name": "stdout",
     "output_type": "stream",
     "text": [
      "Código para Scrapy guardado en EjemploScrapy.py. Ejecuta el spider con:\n",
      "scrapy runspider EjemploScrapy.py -o scrapy_results.csv\n"
     ]
    }
   ],
   "source": [
    "with open(\"EjemploScrapy.py\", \"w\") as f:\n",
    "    f.write(scrapy_code)\n",
    "\n",
    "print(\"Código para Scrapy guardado en EjemploScrapy.py. Ejecuta el spider con:\")\n",
    "print(\"scrapy runspider EjemploScrapy.py -o scrapy_results.csv\")"
   ]
  },
  {
   "cell_type": "markdown",
   "metadata": {},
   "source": [
    "![](Imagen2.png)"
   ]
  },
  {
   "cell_type": "markdown",
   "metadata": {},
   "source": [
    "# 4. CONCLUSIONES. -\n",
    "- Ventajas de BeautifulSoup es que tiene simplicidad, ideal para tareas pequeñas.\n",
    "- Ventajas de Scrapy es que tiene escalabilidad, ideal para proyectos complejos o scraping masivo.\n",
    "- Las limitaciones son los problemas legales (respeta las políticas de los sitios web), bloqueos, etc. "
   ]
  },
  {
   "cell_type": "markdown",
   "metadata": {},
   "source": [
    "# 5. REFERENCIAS BIBLIOGRAFICAS. -\n",
    "- **Requests:**\n",
    "\n",
    "Reitz, K. (2023). Requests: HTTP for Humans. Python Software Foundation. Recuperado de https://docs.python-requests.org/en/latest/\n",
    "\n",
    "- **BeautifulSoup:**\n",
    "\n",
    "Richardson, L. (2023). Beautiful Soup Documentation. Python Software Foundation. Recuperado de https://www.crummy.com/software/BeautifulSoup/\n",
    "\n",
    "- **Pandas:**\n",
    "\n",
    "McKinney, W. (2010). Data Structures for Statistical Computing in Python. In Proceedings of the 9th Python in Science Conference (pp. 51-56). Recuperado de https://pandas.pydata.org/\n",
    "\n",
    "- **Scrapy:**\n",
    "\n",
    "Scrapy Developers. (2023). Scrapy Documentation. Recuperado de https://docs.scrapy.org/en/latest/\n",
    "\n",
    "- **Sitio web objetivo:**\n",
    "\n",
    "Quotes to Scrape. (s.f.). Recuperado de https://quotes.toscrape.com"
   ]
  }
 ],
 "metadata": {
  "kernelspec": {
   "display_name": "Python 3",
   "language": "python",
   "name": "python3"
  },
  "language_info": {
   "codemirror_mode": {
    "name": "ipython",
    "version": 3
   },
   "file_extension": ".py",
   "mimetype": "text/x-python",
   "name": "python",
   "nbconvert_exporter": "python",
   "pygments_lexer": "ipython3",
   "version": "3.11.9"
  }
 },
 "nbformat": 4,
 "nbformat_minor": 2
}
