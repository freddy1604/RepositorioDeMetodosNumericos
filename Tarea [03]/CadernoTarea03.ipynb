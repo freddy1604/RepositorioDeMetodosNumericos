{
 "cells": [
  {
   "cell_type": "markdown",
   "metadata": {},
   "source": [
    "# [TAREA 03] ALGORITMOS Y CONVERGENCIA"
   ]
  },
  {
   "cell_type": "markdown",
   "metadata": {},
   "source": [
    "* Nombre: Freddy Jiménez\n",
    "* Curso:Gr1CC\n",
    "* Materia: Metodos Númericos\n",
    "* Fecha:29/10/2024"
   ]
  },
  {
   "cell_type": "markdown",
   "metadata": {},
   "source": [
    "## CONJUNTO DE EJERCICIOS 1.3. -"
   ]
  },
  {
   "cell_type": "markdown",
   "metadata": {},
   "source": [
    "### 2.La serie de Maclaurin para la función arcotangente converge para $−1 < 𝑥 ≤ 1$ y está dada por:\n",
    "![](imagen1.png)"
   ]
  },
  {
   "cell_type": "markdown",
   "metadata": {},
   "source": [
    "#### a. Utilice el hecho de que tan $\\pi/4=1$ para determinar el número de \"n\" de términos de la serie que se necesita sumar para garantizar que $|4P_n(1) - \\pi|$ < $10^{-3}$"
   ]
  },
  {
   "cell_type": "code",
   "execution_count": null,
   "metadata": {},
   "outputs": [
    {
     "name": "stdout",
     "output_type": "stream",
     "text": [
      "Número de términos necesarios: 1000\n"
     ]
    }
   ],
   "source": [
    "# Definir variables\n",
    "n = 1\n",
    "suma = 0\n",
    "x = 1\n",
    "pi = 3.14159265358979323846  # Valor de pi\n",
    "\n",
    "# Definir la precisión requerida\n",
    "precision = 1e-3\n",
    "\n",
    "\n",
    "while True:\n",
    "    # Calculamos la serie\n",
    "    for i in range(1, n+1):\n",
    "        termino = ((-1) ** (i + 1)) * (x ** (2 * i - 1)) / (2 * i - 1)\n",
    "        suma += termino\n",
    "\n",
    "    # Calculamos P_n\n",
    "    P_n = 4 * suma\n",
    "\n",
    "    # Calculamos la diferencia con pi\n",
    "    diferencia = abs(P_n - pi)\n",
    "\n",
    "    # Comparamos\n",
    "    if diferencia < precision:\n",
    "        break  # Salir del bucle si se cumple la precisión\n",
    "\n",
    "    # Incrementamos n y reiniciamos la suma para la siguiente iteración\n",
    "    n += 1\n",
    "    suma = 0\n",
    "\n",
    "# Resultado\n",
    "print(\"Número de términos necesarios:\", n)"
   ]
  },
  {
   "cell_type": "markdown",
   "metadata": {},
   "source": [
    "#### b. El lenguaje de programacion C++ requiere que el valor de $\\pi$ se encuentre dentro de 10^{-10}. ¿Cuántos términos de la serie se necesitarían sumar para obtener este grado de precisión?\n"
   ]
  },
  {
   "cell_type": "code",
   "execution_count": 1,
   "metadata": {},
   "outputs": [
    {
     "name": "stdout",
     "output_type": "stream",
     "text": [
      "El número de iteraciones ha alcanzado el límite máximo sin converger.\n",
      "Número de términos requeridos: 10001\n"
     ]
    }
   ],
   "source": [
    "import math\n",
    "\n",
    "# Definir variables\n",
    "n = 1\n",
    "pi = math.pi\n",
    "precision = 10 ** (-10)\n",
    "x = 1\n",
    "max_iterations = 10000  # Límite de iteraciones\n",
    "\n",
    "# Calculamos la serie hasta cumplir la precisión requerida\n",
    "while True:\n",
    "    suma = 0  # Reiniciamos la suma a 0\n",
    "\n",
    "    for i in range(1, n + 1):\n",
    "        termino = ((-1) ** (i + 1) * x ** (2 * i - 1)) / (2 * i - 1)\n",
    "        suma += termino\n",
    "\n",
    "    # Calculamos P_n\n",
    "    P_n = 4 * suma\n",
    "\n",
    "    # Calculamos la diferencia con pi\n",
    "    diferencia = abs(P_n - pi)\n",
    "\n",
    "    # Comparamos\n",
    "    if diferencia < precision:\n",
    "        break\n",
    "\n",
    "    # Incrementar n en 1\n",
    "    n += 1\n",
    "\n",
    "    # Verificar si el número de iteraciones ha alcanzado el límite\n",
    "    if n > max_iterations:\n",
    "        print(\"El número de iteraciones ha alcanzado el límite máximo sin converger.\")\n",
    "        break\n",
    "\n",
    "# Resultado\n",
    "\n",
    "print(\"Número de términos requeridos:\", n)"
   ]
  },
  {
   "cell_type": "markdown",
   "metadata": {},
   "source": [
    "### 3. Otra forma para calcular $\\pi$ se puede deducir a partir de la identidad $\\pi/4=4$ $arctan$ $1/5$ - $arctan$ $1/239$. Determine el número de terminos que se deben sumar para garantizar una aproximación $\\pi$ dentro de $10^{-3}$"
   ]
  },
  {
   "cell_type": "code",
   "execution_count": 3,
   "metadata": {},
   "outputs": [
    {
     "name": "stdout",
     "output_type": "stream",
     "text": [
      "Número de términos necesarios: 2\n",
      "Valor calculado de π: 3.141\n",
      "Error: 0.001\n"
     ]
    }
   ],
   "source": [
    "import math\n",
    "\n",
    "# Función para calcular arctan(x) usando una serie con un número dado de términos\n",
    "def arctan(x, terms):\n",
    "    arctan_x = 0\n",
    "    for n in range(terms):\n",
    "        term = ((-1) ** n) * (x ** (2 * n + 1)) / (2 * n + 1)\n",
    "        arctan_x += term\n",
    "    return arctan_x\n",
    "\n",
    "# Función para calcular pi usando la fórmula de Machin con un número dado de términos\n",
    "def calculate_pi(terms):\n",
    "    x1 = 1 / 5\n",
    "    x2 = 1 / 239\n",
    "    arctan1_5 = arctan(x1, terms)\n",
    "    arctan1_239 = arctan(x2, terms)\n",
    "    pi = 4 * (4 * arctan1_5 - arctan1_239)\n",
    "    return pi\n",
    "\n",
    "# Constantes y variables iniciales\n",
    "target_precision = 10 ** (-3)\n",
    "true_pi = math.pi\n",
    "terms = 1\n",
    "calculated_pi = calculate_pi(terms)\n",
    "\n",
    "# Bucle para aumentar el número de términos hasta alcanzar la precisión deseada\n",
    "while abs(calculated_pi - true_pi) > target_precision:\n",
    "    terms += 1\n",
    "    calculated_pi = calculate_pi(terms)\n",
    "\n",
    "# Resultados\n",
    "print(\"Número de términos necesarios:\", terms)\n",
    "print(\"Valor calculado de π:\", round(calculated_pi, 3))\n",
    "print(\"Error:\", round(abs(calculated_pi - true_pi), 3))"
   ]
  },
  {
   "cell_type": "markdown",
   "metadata": {},
   "source": [
    "### 5. Resuelve los siguientes literales. -"
   ]
  },
  {
   "cell_type": "markdown",
   "metadata": {},
   "source": [
    "#### a. ¿Cuántas multiplicaciones y sumas se requieren para determinar una suma de la forma?\n",
    "![](imagen2.png)"
   ]
  },
  {
   "cell_type": "code",
   "execution_count": 1,
   "metadata": {},
   "outputs": [
    {
     "name": "stdout",
     "output_type": "stream",
     "text": [
      "Número total de sumas realizadas: 130\n",
      "Número total de multiplicaciones realizadas: 130\n"
     ]
    }
   ],
   "source": [
    "# Definir variables\n",
    "n = int(input(\"Ingrese el número de elementos en las sumas: \"))\n",
    "\n",
    "#Inicializacion\n",
    "suma_total = 0\n",
    "multiplicacion_total = 0\n",
    "\n",
    "for i in range(1, n + 1):\n",
    "    # Realizar la multiplicación a_i * b_i\n",
    "    a_i = int(input(\"Ingrese el valor de a_\" + str(i) + \": \"))\n",
    "    b_i = int(input(\"Ingrese el valor de b_\" + str(i) + \": \"))\n",
    "    multiplicacion = a_i * b_i\n",
    "\n",
    "    # Sumamos el resultado de la multiplicación al total acumulado\n",
    "    suma_total += multiplicacion\n",
    "\n",
    "    # Sumamos el resultado de la multiplicación a la suma acumulada\n",
    "    multiplicacion_total += multiplicacion\n",
    "\n",
    "    multiplicacion_total += 1\n",
    "    suma_total += 1\n",
    "\n",
    "# Resultado\n",
    "print(\"Número total de sumas realizadas:\", suma_total)\n",
    "print(\"Número total de multiplicaciones realizadas:\", multiplicacion_total)"
   ]
  },
  {
   "cell_type": "markdown",
   "metadata": {},
   "source": [
    "#### b. Modifique la suma en la parte a) a un formato equivalente que reduzca el número de cálculos."
   ]
  },
  {
   "cell_type": "code",
   "execution_count": 4,
   "metadata": {},
   "outputs": [
    {
     "name": "stdout",
     "output_type": "stream",
     "text": [
      "Suma total: 375\n",
      "Número total de multiplicaciones realizadas: 15\n",
      "Número total de sumas realizadas: 15\n"
     ]
    }
   ],
   "source": [
    "# Definir variables\n",
    "n = int(input(\"Ingrese el número de elementos en las sumas: \"))\n",
    "\n",
    "# Inicialización de variables\n",
    "suma_total = 0\n",
    "multiplicacion_total = 0\n",
    "contador_sumas = 0\n",
    "contador_multiplicaciones = 0\n",
    "\n",
    "# Almacenar los valores de b una sola vez\n",
    "b = [int(input(f\"Ingrese el valor de b_{j + 1}: \")) for j in range(n)]\n",
    "\n",
    "for i in range(1, n + 1):\n",
    "    # Ingresar el valor de a_i solo una vez por cada i\n",
    "    a_i = int(input(f\"Ingrese el valor de a_{i}: \"))\n",
    "    \n",
    "    # Acumular la suma de multiplicaciones para cada a_i * b_j donde j va de 1 a i\n",
    "    suma_parcial = 0\n",
    "    for j in range(i):\n",
    "        suma_parcial += a_i * b[j]\n",
    "        contador_multiplicaciones += 1\n",
    "\n",
    "    # Sumar la suma parcial al total\n",
    "    suma_total += suma_parcial\n",
    "    contador_sumas += i  # Cada iteración suma i veces\n",
    "\n",
    "# Resultados\n",
    "print(\"Suma total:\", suma_total)\n",
    "print(\"Número total de multiplicaciones realizadas:\", contador_multiplicaciones)\n",
    "print(\"Número total de sumas realizadas:\", contador_sumas)"
   ]
  },
  {
   "cell_type": "markdown",
   "metadata": {},
   "source": [
    "## DISCUSIONES"
   ]
  },
  {
   "cell_type": "markdown",
   "metadata": {},
   "source": [
    "### 2. Las ecuaciones (1.2) y (1.3) en la sección 1.2 proporcionan formas alternativas para las raíces $x_1$ y $x_2$ de $ax^{2}+bx+c=0$. Construya un algoritmo con entrada a,b,c \"c\" y salida $x_1$ y $x_2$ que calcule las raíces $x_1$ y $x_2$ (que pueden ser iguales con conjugados complejos) mediante la mejor fórmula para cada raíz."
   ]
  },
  {
   "cell_type": "code",
   "execution_count": 3,
   "metadata": {},
   "outputs": [
    {
     "name": "stdout",
     "output_type": "stream",
     "text": [
      "Las raíces conjugadas complejas de la ecuación cuadrática son:\n",
      "x1 = -0.9 + i * 7.9\n",
      "x2 = -0.9 - i * -7.9\n"
     ]
    }
   ],
   "source": [
    "import math\n",
    "\n",
    "a = float(input(\"Ingrese el coeficiente a de la ecuación cuadrática: \"))\n",
    "b = float(input(\"Ingrese el coeficiente b de la ecuación cuadrática: \"))\n",
    "c = float(input(\"Ingrese el coeficiente c de la ecuación cuadrática: \"))\n",
    "discriminante = b**2 - 4 * a * c\n",
    "x1 = 0\n",
    "x2 = 0\n",
    "\n",
    "#  Calculamos el discriminante de la ecuación cuadrática\n",
    "discriminante = b**2 - 4 * a * c\n",
    "\n",
    "if discriminante >= 0:\n",
    "    #  Calculamos x1 y x2\n",
    "    x1 = (-b + math.sqrt(discriminante)) / (2 * a)\n",
    "    x2 = (-b - math.sqrt(discriminante)) / (2 * a)\n",
    "    # Paso 4.2: Imprimir los valores de x1 y x2\n",
    "    print(\"Las raíces de la ecuación cuadrática son:\")\n",
    "    print(\"x1 =\", x1)\n",
    "    print(\"x2 =\", x2)\n",
    "else:\n",
    "    # Calculamos x1 y x2 utilizando la fórmula de los complejos\n",
    "    x1_real = -b / (2 * a)\n",
    "    x1_imaginaria = abs(discriminante) / (2 * a)\n",
    "    x2_real = -b / (2 * a)\n",
    "    x2_imaginaria = -abs(discriminante) / (2 * a)\n",
    "    # Resultado\n",
    "    print(\"Las raíces conjugadas complejas de la ecuación cuadrática son:\")\n",
    "    print(\"x1 =\", x1_real, \"+ i *\", x1_imaginaria)\n",
    "    print(\"x2 =\", x2_real, \"- i *\", x2_imaginaria)"
   ]
  }
 ],
 "metadata": {
  "kernelspec": {
   "display_name": "Python 3",
   "language": "python",
   "name": "python3"
  },
  "language_info": {
   "codemirror_mode": {
    "name": "ipython",
    "version": 3
   },
   "file_extension": ".py",
   "mimetype": "text/x-python",
   "name": "python",
   "nbconvert_exporter": "python",
   "pygments_lexer": "ipython3",
   "version": "3.11.9"
  }
 },
 "nbformat": 4,
 "nbformat_minor": 2
}
