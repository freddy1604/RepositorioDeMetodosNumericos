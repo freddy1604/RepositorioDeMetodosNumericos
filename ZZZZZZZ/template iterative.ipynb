{
 "cells": [
  {
   "cell_type": "code",
   "execution_count": 1,
   "metadata": {},
   "outputs": [],
   "source": [
    "%load_ext autoreload"
   ]
  },
  {
   "cell_type": "markdown",
   "metadata": {},
   "source": [
    "# **ESCUELA POLITECNICA NACIONAL**\n",
    "- Nombre: Freddy Jimenez\n",
    "- Curso: Gr1cc\n",
    "- Fecha: 25/01/2025"
   ]
  },
  {
   "cell_type": "markdown",
   "metadata": {},
   "source": [
    "## **REPOSITORIO. -**\n",
    "- Link:"
   ]
  },
  {
   "cell_type": "markdown",
   "metadata": {},
   "source": [
    "## **ACTIVIDAD EN CLASE. -**"
   ]
  },
  {
   "cell_type": "markdown",
   "metadata": {},
   "source": [
    "### **INDICACIONES. -**\n",
    "**RESOLVER SISTEMA**\n",
    "- Usando funciones provistas\n",
    "- Gauss Jacobi, Gauss Seidel"
   ]
  },
  {
   "cell_type": "code",
   "execution_count": 2,
   "metadata": {},
   "outputs": [
    {
     "name": "stdout",
     "output_type": "stream",
     "text": [
      "[01-25 08:01:29][INFO] 2025-01-25 08:01:29.561649\n",
      "[01-25 08:01:31][INFO] 2025-01-25 08:01:31.927735\n"
     ]
    }
   ],
   "source": [
    "%autoreload 2\n",
    "from src import gauss_jacobi"
   ]
  },
  {
   "cell_type": "code",
   "execution_count": null,
   "metadata": {},
   "outputs": [],
   "source": []
  }
 ],
 "metadata": {
  "kernelspec": {
   "display_name": "Python 3",
   "language": "python",
   "name": "python3"
  },
  "language_info": {
   "codemirror_mode": {
    "name": "ipython",
    "version": 3
   },
   "file_extension": ".py",
   "mimetype": "text/x-python",
   "name": "python",
   "nbconvert_exporter": "python",
   "pygments_lexer": "ipython3",
   "version": "3.11.9"
  }
 },
 "nbformat": 4,
 "nbformat_minor": 2
}
