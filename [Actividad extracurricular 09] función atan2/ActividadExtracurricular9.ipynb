{
 "cells": [
  {
   "cell_type": "markdown",
   "metadata": {},
   "source": [
    "# ESCUELA POLITECNICA NACIONAL\n",
    "- Nombre: Freddy Jimenez\n",
    "- Curso: Gr1cc\n",
    "- Fecha: 17/12/2024"
   ]
  },
  {
   "cell_type": "markdown",
   "metadata": {},
   "source": [
    "## [Actividad extracurricular 09] función atan2"
   ]
  },
  {
   "cell_type": "markdown",
   "metadata": {},
   "source": [
    "### Ejemplos en Python. -"
   ]
  },
  {
   "cell_type": "markdown",
   "metadata": {},
   "source": [
    "#### 1.\tBásico: Calcular el ángulo de un punto en el primer cuadrante.-"
   ]
  },
  {
   "cell_type": "code",
   "execution_count": 6,
   "metadata": {},
   "outputs": [
    {
     "name": "stdout",
     "output_type": "stream",
     "text": [
      "Ángulo en radianes: 0.7853981633974483\n",
      "Ángulo en grados: 45.0\n"
     ]
    }
   ],
   "source": [
    "import math\n",
    "x, y = 1, 1\n",
    "angle = math.atan2(y, x)\n",
    "print(f\"Ángulo en radianes: {angle}\")\n",
    "print(f\"Ángulo en grados: {math.degrees(angle)}\")"
   ]
  },
  {
   "cell_type": "markdown",
   "metadata": {},
   "source": [
    "#### 2. Trabajar con puntos en diferentes cuadrantes. -"
   ]
  },
  {
   "cell_type": "code",
   "execution_count": 2,
   "metadata": {},
   "outputs": [
    {
     "name": "stdout",
     "output_type": "stream",
     "text": [
      "Punto (1, 1) => Ángulo: 45.00°\n",
      "Punto (-1, 1) => Ángulo: 135.00°\n",
      "Punto (-1, -1) => Ángulo: -135.00°\n",
      "Punto (1, -1) => Ángulo: -45.00°\n"
     ]
    }
   ],
   "source": [
    "points = [(1, 1), (-1, 1), (-1, -1), (1, -1)]\n",
    "for x, y in points:\n",
    "    angle = math.atan2(y, x)\n",
    "    print(f\"Punto ({x}, {y}) => Ángulo: {math.degrees(angle):.2f}°\")"
   ]
  },
  {
   "cell_type": "markdown",
   "metadata": {},
   "source": [
    "#### 3. Distancia y orientación de un vector. -"
   ]
  },
  {
   "cell_type": "code",
   "execution_count": 3,
   "metadata": {},
   "outputs": [
    {
     "name": "stdout",
     "output_type": "stream",
     "text": [
      "Magnitud: 5.0, Ángulo: 53.13010235415598°\n"
     ]
    }
   ],
   "source": [
    "def polar_coordinates(x, y):\n",
    "    r = math.sqrt(x**2 + y**2)  # Magnitud del vector\n",
    "    theta = math.atan2(y, x)   # Ángulo en radianes\n",
    "    return r, theta\n",
    "\n",
    "x, y = 3, 4\n",
    "r, theta = polar_coordinates(x, y)\n",
    "print(f\"Magnitud: {r}, Ángulo: {math.degrees(theta)}°\")"
   ]
  },
  {
   "cell_type": "markdown",
   "metadata": {},
   "source": [
    "#### 4. Diferenciar ángulos negativos y positivos. -"
   ]
  },
  {
   "cell_type": "code",
   "execution_count": 4,
   "metadata": {},
   "outputs": [
    {
     "name": "stdout",
     "output_type": "stream",
     "text": [
      "Ángulo en radianes: -2.0344439357957027, en grados: -116.56505117707799\n"
     ]
    }
   ],
   "source": [
    "x, y = -1, -2\n",
    "angle = math.atan2(y, x)\n",
    "print(f\"Ángulo en radianes: {angle}, en grados: {math.degrees(angle)}\")"
   ]
  },
  {
   "cell_type": "markdown",
   "metadata": {},
   "source": [
    "#### 5. Convertir de coordenadas polares a cartesianas. -"
   ]
  },
  {
   "cell_type": "code",
   "execution_count": 5,
   "metadata": {},
   "outputs": [
    {
     "name": "stdout",
     "output_type": "stream",
     "text": [
      "Coordenadas cartesianas: (-2.50, 4.33)\n"
     ]
    }
   ],
   "source": [
    "def polar_to_cartesian(r, theta):\n",
    "    x = r * math.cos(theta)\n",
    "    y = r * math.sin(theta)\n",
    "    return x, y\n",
    "\n",
    "r, theta = 5, math.radians(120)\n",
    "x, y = polar_to_cartesian(r, theta)\n",
    "print(f\"Coordenadas cartesianas: ({x:.2f}, {y:.2f})\")"
   ]
  }
 ],
 "metadata": {
  "kernelspec": {
   "display_name": "Python 3",
   "language": "python",
   "name": "python3"
  },
  "language_info": {
   "codemirror_mode": {
    "name": "ipython",
    "version": 3
   },
   "file_extension": ".py",
   "mimetype": "text/x-python",
   "name": "python",
   "nbconvert_exporter": "python",
   "pygments_lexer": "ipython3",
   "version": "3.11.9"
  }
 },
 "nbformat": 4,
 "nbformat_minor": 2
}
