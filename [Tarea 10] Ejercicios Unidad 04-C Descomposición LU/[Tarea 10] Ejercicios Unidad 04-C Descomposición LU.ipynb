{
 "cells": [
  {
   "cell_type": "markdown",
   "metadata": {},
   "source": [
    "# ESCUELA POLITECNICA NACIONAL\n",
    "- Nombre: Freddy Jimenez\n",
    "- Curso: Gr1cc\n",
    "- Fecha: 14/11/2025"
   ]
  },
  {
   "cell_type": "markdown",
   "metadata": {},
   "source": [
    "## REPOSITORIO. -\n",
    "\n",
    "Link: https://github.com/freddy1604/RepositorioDeMetodosNumericos/tree/main/%5BTarea%2010%5D%20Ejercicios%20Unidad%2004-C%20Descomposici%C3%B3n%20LU"
   ]
  },
  {
   "cell_type": "markdown",
   "metadata": {},
   "source": [
    "# [Tarea 10] Ejercicios Unidad 04-C | Descomposición LU\n"
   ]
  },
  {
   "cell_type": "markdown",
   "metadata": {},
   "source": [
    "Resuelva los ejercicios adjuntos.\n",
    "\n",
    "Indicaciones. -\n",
    "- Puede realizar los cálculos a mano, o utilizar cualquier librería o implementar su propia función. \n",
    "- En caso de usar código, subir la resolución de los ejercicios en un repositorio público en Github e incluir enlace de su repositorio.  \n",
    "- Subir archivo pdf."
   ]
  },
  {
   "cell_type": "markdown",
   "metadata": {},
   "source": [
    "## CONJUNTO DE EJERCICIOS. -"
   ]
  },
  {
   "cell_type": "markdown",
   "metadata": {},
   "source": [
    "### 1. Realice las siguientes multiplicaciones matriz-matriz:"
   ]
  },
  {
   "cell_type": "markdown",
   "metadata": {},
   "source": [
    "![](imagen1.png)"
   ]
  },
  {
   "cell_type": "code",
   "execution_count": 2,
   "metadata": {},
   "outputs": [
    {
     "name": "stdout",
     "output_type": "stream",
     "text": [
      "Resultado de a):\n",
      " [[-4 10]\n",
      " [ 1 15]]\n",
      "Resultado de b):\n",
      " [[ 11   4  -8]\n",
      " [  6  13 -12]]\n",
      "Resultado de c):\n",
      " [[  1   3   3  -3]\n",
      " [  7   0   1 -11]\n",
      " [ -1 -12  11  -4]]\n",
      "Resultado de d):\n",
      " [[ -2   1]\n",
      " [-14   7]\n",
      " [  6   1]]\n"
     ]
    }
   ],
   "source": [
    "import numpy as np\n",
    "# a)\n",
    "A_a = np.array([[2, -3], [3, -1]])\n",
    "B_a = np.array([[1, 5], [2, 0]])\n",
    "# b)\n",
    "A_b = np.array([[2, -3], [3, -1]])\n",
    "B_b = np.array([[1, 5, -4], [-3, 2, 0]])\n",
    "# c)\n",
    "A_c = np.array([[2, -3, 1], [4, 3, 0], [5, 2, -4]])\n",
    "B_c = np.array([[1, 0, 1, -2], [1, 0, -1, -1], [2, 3, -2, -2]])\n",
    "# d)\n",
    "A_d = np.array([[2, 1, 2], [-2, 3, 0], [2, -1, 3]])\n",
    "B_d = np.array([[1, -2], [-4, 1], [0, 2]])\n",
    "\n",
    "result_a = np.dot(A_a, B_a)\n",
    "result_b = np.dot(A_b, B_b)\n",
    "result_c = np.dot(A_c, B_c)\n",
    "result_d = np.dot(A_d, B_d)\n",
    "\n",
    "print(\"Resultado de a):\\n\", result_a)\n",
    "print(\"Resultado de b):\\n\", result_b)\n",
    "print(\"Resultado de c):\\n\", result_c)\n",
    "print(\"Resultado de d):\\n\", result_d)"
   ]
  },
  {
   "cell_type": "markdown",
   "metadata": {},
   "source": [
    "### 2. Determine cuáles de las siguientes matrices son no singulares y calcule la inversa de esas matrices:"
   ]
  },
  {
   "cell_type": "markdown",
   "metadata": {},
   "source": [
    "![](imagen2.png)"
   ]
  },
  {
   "cell_type": "code",
   "execution_count": 3,
   "metadata": {},
   "outputs": [
    {
     "name": "stdout",
     "output_type": "stream",
     "text": [
      "La matriz a es singular (determinante = 0).\n",
      "La matriz b es no singular.\n",
      "Inversa de b:\n",
      " [[-0.25   0.25   0.25 ]\n",
      " [ 0.625 -0.125 -0.125]\n",
      " [ 0.125 -0.625  0.375]]\n",
      "La matriz c es singular (determinante = 0).\n",
      "La matriz d es no singular.\n",
      "Inversa de d:\n",
      " [[ 0.25        0.          0.          0.        ]\n",
      " [-0.21428571  0.14285714 -0.         -0.        ]\n",
      " [ 0.10714286 -1.57142857  1.         -0.        ]\n",
      " [-0.5         1.         -1.          1.        ]]\n"
     ]
    }
   ],
   "source": [
    "import numpy as np\n",
    "\n",
    "A_a = np.array([[4, 2, 6], [3, 0, 7], [-2, -1, -3]])\n",
    "A_b = np.array([[1, 2, 0], [2, 1, -1], [3, 1, 1]])\n",
    "A_c = np.array([[1, 1, -1, 1], [1, 2, -4, -2], [2, 1, 1, 5], [-1, 0, -2, -4]])\n",
    "A_d = np.array([[4, 0, 0, 0], [6, 7, 0, 0], [9, 11, 1, 0], [5, 4, 1, 1]])\n",
    "\n",
    "matrices = [(\"a\", A_a), (\"b\", A_b), (\"c\", A_c), (\"d\", A_d)]\n",
    "\n",
    "for name, matrix in matrices:\n",
    "    try:\n",
    "        det = np.linalg.det(matrix)\n",
    "        if det != 0:  \n",
    "            inverse = np.linalg.inv(matrix)\n",
    "            print(f\"La matriz {name} es no singular.\")\n",
    "            print(f\"Inversa de {name}:\\n\", inverse)\n",
    "        else:\n",
    "            print(f\"La matriz {name} es singular (determinante = 0).\")\n",
    "    except np.linalg.LinAlgError:\n",
    "        print(f\"La matriz {name} no tiene inversa.\")"
   ]
  },
  {
   "cell_type": "markdown",
   "metadata": {},
   "source": [
    "### 3. Resuelva los sistemas lineales 4 x 4 que tienen la misma matriz de coeficientes:"
   ]
  },
  {
   "cell_type": "markdown",
   "metadata": {},
   "source": [
    "![](imagen3.png)"
   ]
  },
  {
   "cell_type": "code",
   "execution_count": 9,
   "metadata": {},
   "outputs": [
    {
     "name": "stdout",
     "output_type": "stream",
     "text": [
      "Solución del primer sistema:\n",
      " [ 3. -6. -2. -1.]\n",
      "Solución del segundo sistema:\n",
      " [1. 1. 1. 1.]\n"
     ]
    }
   ],
   "source": [
    "import numpy as np\n",
    "\n",
    "A = np.array([\n",
    "    [1, -1, 2, -1],\n",
    "    [1, 0, -1, 1],\n",
    "    [2, 1, 3, -4],\n",
    "    [0, -1, 1, -1]\n",
    "])\n",
    "\n",
    "b1 = np.array([6, 4, -2, 5])  \n",
    "b2 = np.array([1, 1, 2, -1])  \n",
    "\n",
    "x1 = np.linalg.solve(A, b1)\n",
    "x2 = np.linalg.solve(A, b2)\n",
    "\n",
    "print(\"Solución del primer sistema:\\n\", x1)\n",
    "print(\"Solución del segundo sistema:\\n\", x2)"
   ]
  },
  {
   "cell_type": "markdown",
   "metadata": {},
   "source": [
    "### 4. Encuentre los valores de A que hacen que la siguiente matriz sea singular."
   ]
  },
  {
   "cell_type": "markdown",
   "metadata": {},
   "source": [
    "![](imagen4.png)"
   ]
  },
  {
   "cell_type": "code",
   "execution_count": 10,
   "metadata": {},
   "outputs": [
    {
     "name": "stdout",
     "output_type": "stream",
     "text": [
      "Determinante de A: 2*alpha**2 - alpha - 6.0\n",
      "Valores de alpha que hacen que A sea singular: [-1.50000000000000, 2.00000000000000]\n"
     ]
    }
   ],
   "source": [
    "import sympy as sp\n",
    "\n",
    "alpha = sp.symbols('alpha')\n",
    "\n",
    "A = sp.Matrix([\n",
    "    [1, -1, alpha],\n",
    "    [2, 2, 1],\n",
    "    [0, alpha, -3/2]\n",
    "])\n",
    "\n",
    "det_A = A.det()\n",
    "solutions = sp.solve(det_A, alpha)\n",
    "\n",
    "print(f\"Determinante de A: {det_A}\")\n",
    "print(f\"Valores de alpha que hacen que A sea singular: {solutions}\")"
   ]
  },
  {
   "cell_type": "markdown",
   "metadata": {},
   "source": [
    "### 5. Resuelva los siguientes sistemas lineales:"
   ]
  },
  {
   "cell_type": "markdown",
   "metadata": {},
   "source": [
    "![](imagen5.png)"
   ]
  },
  {
   "cell_type": "code",
   "execution_count": 11,
   "metadata": {},
   "outputs": [
    {
     "name": "stdout",
     "output_type": "stream",
     "text": [
      "Solución del sistema a: {x1: -3, x2: 3, x3: 1}\n",
      "Solución del sistema b: {x1: 1/2, x2: -9/2, x3: 7/2}\n"
     ]
    }
   ],
   "source": [
    "import sympy as sp\n",
    "\n",
    "A_a = sp.Matrix([\n",
    "    [1, 0, 0],\n",
    "    [2, 1, 0],\n",
    "    [-1, 0, 1]\n",
    "])\n",
    "B_a = sp.Matrix([\n",
    "    [2, 3, -1],\n",
    "    [0, -2, 1],\n",
    "    [0, 0, 3]\n",
    "])\n",
    "\n",
    "C_a = sp.Matrix([2, -1, 1])\n",
    "x1, x2, x3 = sp.symbols('x1 x2 x3')\n",
    "X = sp.Matrix([x1, x2, x3])\n",
    "solution_a = sp.solve(A_a * (B_a * X) - C_a, [x1, x2, x3])\n",
    "\n",
    "A_b = sp.Matrix([\n",
    "    [2, 0, 0],\n",
    "    [-1, 1, 0],\n",
    "    [3, 2, -1]\n",
    "])\n",
    "\n",
    "B_b = sp.Matrix([[1, 1, 1], [0, 1, 2], [0, 0, 1]])\n",
    "\n",
    "C_b = sp.Matrix([-1, 3, 0])\n",
    "solution_b = sp.solve(A_b * (B_b * X) - C_b, [x1, x2, x3])\n",
    "\n",
    "print(\"Solución del sistema a:\", solution_a)\n",
    "print(\"Solución del sistema b:\", solution_b)"
   ]
  },
  {
   "cell_type": "markdown",
   "metadata": {},
   "source": [
    "### 6. Factorice las siguientes matrices en la descomposición LU mediante el algoritmo de factorización $LU$ con $l_{ii}=1$ para todas las $i$"
   ]
  },
  {
   "cell_type": "markdown",
   "metadata": {},
   "source": [
    "![](imagen6.png)"
   ]
  },
  {
   "cell_type": "code",
   "execution_count": 12,
   "metadata": {},
   "outputs": [
    {
     "name": "stdout",
     "output_type": "stream",
     "text": [
      "Factorización LU de la matriz a:\n",
      "L: Matrix([[1, 0, 0], [3/2, 1, 0], [3/2, 1, 1]])\n",
      "U: Matrix([[2, -1, 1], [0, 9/2, 15/2], [0, 0, -4]])\n",
      "\n",
      "Factorización LU de la matriz b:\n",
      "L: Matrix([[1, 0, 0], [-2.10671936758893, 1, 0], [3.06719367588933, 1.19775552624215, 1]])\n",
      "U: Matrix([[1.01200000000000, -2.13200000000000, 3.10400000000000], [0, -0.395525691699605, -0.473743083003951], [0, 0, -8.93914077427350]])\n",
      "\n",
      "Factorización LU de la matriz c:\n",
      "L: Matrix([[1, 0, 0, 0], [1/2, 1, 0, 0], [0, -2.00000000000000, 1, 0], [1, -1.33333333333333, 2.00000000000000, 1]])\n",
      "U: Matrix([[2, 0, 0, 0], [0, 1.50000000000000, 0, 0], [0, 0, 0.500000000000000, 0], [0, 0, 0, 1]])\n",
      "\n",
      "Factorización LU de la matriz d:\n",
      "L: Matrix([[1, 0, 0, 0], [-1.84919102776246, 1, 0, 0], [-0.459643316786174, -0.250121944170316, 1, 0], [2.76866151866152, -0.307943612790330, -5.35228302043569, 1]])\n",
      "U: Matrix([[2.17560000000000, 4.02310000000000, -2.17320000000000, 5.19670000000000], [0, 13.4394804237911, -4.01866194153337, 10.8069910139732], [0, 4.44089209850063e-16, -0.892952393819297, 5.09169402738881], [0, 2.37689113743919e-15, 0, 12.0361280302542]])\n"
     ]
    }
   ],
   "source": [
    "import sympy as sp\n",
    "\n",
    "def lu_factorization(matrix):\n",
    "    L, U = sp.eye(matrix.shape[0]), matrix.copy()\n",
    "    for i in range(matrix.shape[0]):\n",
    "        for j in range(i + 1, matrix.shape[0]):\n",
    "            factor = U[j, i] / U[i, i]\n",
    "            L[j, i] = factor\n",
    "            U[j, :] -= factor * U[i, :]\n",
    "    return L, U\n",
    "\n",
    "A_a = sp.Matrix([\n",
    "    [2, -1, 1],\n",
    "    [3, 3, 9],\n",
    "    [3, 3, 5]\n",
    "])\n",
    "L_a, U_a = lu_factorization(A_a)\n",
    "\n",
    "A_b = sp.Matrix([\n",
    "    [1.012, -2.132, 3.104],\n",
    "    [-2.132, 4.096, -7.013],\n",
    "    [3.104, -7.013, 0.014]\n",
    "])\n",
    "L_b, U_b = lu_factorization(A_b)\n",
    "\n",
    "A_c = sp.Matrix([\n",
    "    [2, 0, 0, 0],\n",
    "    [1, 1.5, 0, 0],\n",
    "    [0, -3, 0.5, 0],\n",
    "    [2, -2, 1, 1]\n",
    "])\n",
    "L_c, U_c = lu_factorization(A_c)\n",
    "\n",
    "A_d = sp.Matrix([\n",
    "    [2.1756, 4.0231, -2.1732, 5.1967],\n",
    "    [-4.0231, 6.0000, 0, 1.1973],\n",
    "    [-1.0000, -5.2107, 1.1111, 0],\n",
    "    [6.0235, 7.0000, 0, -4.1561]\n",
    "])\n",
    "L_d, U_d = lu_factorization(A_d)\n",
    "\n",
    "print(\"Factorización LU de la matriz a:\")\n",
    "print(\"L:\", L_a)\n",
    "print(\"U:\", U_a)\n",
    "print(\"\\nFactorización LU de la matriz b:\")\n",
    "print(\"L:\", L_b)\n",
    "print(\"U:\", U_b)\n",
    "print(\"\\nFactorización LU de la matriz c:\")\n",
    "print(\"L:\", L_c)\n",
    "print(\"U:\", U_c)\n",
    "print(\"\\nFactorización LU de la matriz d:\")\n",
    "print(\"L:\", L_d)\n",
    "print(\"U:\", U_d)"
   ]
  },
  {
   "cell_type": "markdown",
   "metadata": {},
   "source": [
    "### 7. Modifique el algoritmo de eliminación gaussiana de tal forma que se pueda utilizar para resolver un sistema lineal usando la descomposición $LU$ y, a continuación, resuelva los siguientes sistemas lineales.."
   ]
  },
  {
   "cell_type": "markdown",
   "metadata": {},
   "source": [
    "![](imagen7.png)"
   ]
  },
  {
   "cell_type": "code",
   "execution_count": 13,
   "metadata": {},
   "outputs": [
    {
     "name": "stdout",
     "output_type": "stream",
     "text": [
      "Solución del sistema a: [ 1.  2. -1.]\n",
      "\n",
      "Solución del sistema b: [1. 1. 1.]\n",
      "\n",
      "Solución del sistema c: [ 1.5  2.  -1.2  6. ]\n",
      "\n",
      "Solución del sistema d: [2.9398512  0.0706777  5.67773512 4.37981223]\n",
      "\n"
     ]
    }
   ],
   "source": [
    "import numpy as np\n",
    "\n",
    "def lu_decomposition(a):\n",
    "    n = len(a)\n",
    "    L = np.zeros((n, n))\n",
    "    U = np.zeros((n, n))\n",
    "\n",
    "    for i in range(n):\n",
    "        # Calcula la matriz U\n",
    "        for k in range(i, n):\n",
    "            suma = sum(L[i][j] * U[j][k] for j in range(i))\n",
    "            U[i][k] = a[i][k] - suma\n",
    "\n",
    "        for k in range(i, n):\n",
    "            if i == k:\n",
    "                L[i][i] = 1  \n",
    "            else:\n",
    "                suma = sum(L[k][j] * U[j][i] for j in range(i))\n",
    "                L[k][i] = (a[k][i] - suma) / U[i][i]\n",
    "\n",
    "    return L, U\n",
    "\n",
    "def forward_substitution(L, b):\n",
    "    n = len(b)\n",
    "    y = np.zeros(n)\n",
    "    for i in range(n):\n",
    "        y[i] = (b[i] - sum(L[i][j] * y[j] for j in range(i))) / L[i][i]\n",
    "    return y\n",
    "\n",
    "def backward_substitution(U, y):\n",
    "    n = len(y)\n",
    "    x = np.zeros(n)\n",
    "    for i in range(n - 1, -1, -1):\n",
    "        x[i] = (y[i] - sum(U[i][j] * x[j] for j in range(i + 1, n))) / U[i][i]\n",
    "    return x\n",
    "\n",
    "def solve_lu(a, b):\n",
    "    L, U = lu_decomposition(a)\n",
    "    y = forward_substitution(L, b)\n",
    "    x = backward_substitution(U, y)\n",
    "    return x\n",
    "\n",
    "sistemas = [\n",
    "    {\n",
    "        \"A\": np.array([\n",
    "            [2, -1, 1],\n",
    "            [3, 3, 9],\n",
    "            [3, 3, 5]\n",
    "        ]),\n",
    "        \"b\": np.array([-1, 0, 4])\n",
    "    },\n",
    "    {\n",
    "        \"A\": np.array([\n",
    "            [1.012, -2.132, 3.104],\n",
    "            [-2.132, 4.096, -7.013],\n",
    "            [3.104, -7.013, 0.014]\n",
    "        ]),\n",
    "        \"b\": np.array([1.984, -5.049, -3.895])\n",
    "    },\n",
    "    {\n",
    "        \"A\": np.array([\n",
    "            [2, 0, 0, 0],\n",
    "            [1, 1.5, 0, 0],\n",
    "            [0, -3, 0.5, 0],\n",
    "            [0, -2, 1, 1]\n",
    "        ]),\n",
    "        \"b\": np.array([3, 4.5, -6.6, 0.8])\n",
    "    },\n",
    "    {\n",
    "        \"A\": np.array([\n",
    "            [2.1756, 4.0231, -2.1732, 5.1967],\n",
    "            [-4.0231, 6.0000, 0, 1.1973],\n",
    "            [-1.0000, -5.2107, 1.1111, 0],\n",
    "            [6.0235, 7.0000, 0, -4.1561]\n",
    "        ]),\n",
    "        \"b\": np.array([17.102, -6.1593, 3.0004, 0])\n",
    "    }\n",
    "]\n",
    "\n",
    "for i, sistema in enumerate(sistemas, start=1):\n",
    "    A, b = sistema[\"A\"], sistema[\"b\"]\n",
    "    x = solve_lu(A, b)\n",
    "    print(f\"Solución del sistema {chr(96 + i)}: {x}\\n\")"
   ]
  }
 ],
 "metadata": {
  "kernelspec": {
   "display_name": "Python 3",
   "language": "python",
   "name": "python3"
  },
  "language_info": {
   "codemirror_mode": {
    "name": "ipython",
    "version": 3
   },
   "file_extension": ".py",
   "mimetype": "text/x-python",
   "name": "python",
   "nbconvert_exporter": "python",
   "pygments_lexer": "ipython3",
   "version": "3.11.9"
  }
 },
 "nbformat": 4,
 "nbformat_minor": 2
}
