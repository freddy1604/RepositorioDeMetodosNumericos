{
 "cells": [
  {
   "cell_type": "markdown",
   "metadata": {},
   "source": [
    "# ESCUELA POLITECNICA NACIONAL\n",
    "- Nombre: Freddy Jiménez\n",
    "- Curso: Gr1cc\n",
    "- Fecha: 09/02/2025"
   ]
  },
  {
   "cell_type": "markdown",
   "metadata": {},
   "source": [
    "## REPOSITORIO. -\n",
    "\n",
    "Link: https://github.com/freddy1604/RepositorioDeMetodosNumericos/tree/main/%5BActividad%20extracurricular%2013%5D%20DeepSeek"
   ]
  },
  {
   "cell_type": "markdown",
   "metadata": {},
   "source": [
    "# [Actividad extracurricular 13] DeepSeek"
   ]
  },
  {
   "cell_type": "markdown",
   "metadata": {},
   "source": [
    "Investigar sobre los nuevos modelos de IA desarrollados por la empresa china DeepSeek. En especial en los siguientes puntos:\n",
    "\n",
    "- Distillation: y robo de datos a OpenAI. \n",
    "- Costo de entrenamiento. \n",
    "- Relación con la elección del nuevo presidente de los Estados Unidos. \n",
    "- GPUs utilizadas. \n",
    "\n",
    "El objetivo de esta actividad es que cada estudiante forme su criterio en este tema."
   ]
  },
  {
   "cell_type": "markdown",
   "metadata": {},
   "source": [
    "### **Distillation: y robo de datos a OpenAI.**"
   ]
  },
  {
   "cell_type": "markdown",
   "metadata": {},
   "source": [
    "DeepSeek ha sido señalado por OpenAI de emplear la técnica de \"distillation\", la cual permite que un modelo de menor tamaño aprenda a replicar el comportamiento de un modelo más avanzado. Microsoft, socio clave de OpenAI, detectó que personas vinculadas a DeepSeek podrían haber extraído datos de la API de OpenAI de manera no autorizada. Esto ha generado una investigación sobre posibles violaciones de propiedad intelectual.\n",
    "\n",
    "Por ejemplo, según informes filtrados, se hallaron patrones en los modelos de DeepSeek que coincidían con respuestas y estilos generados por GPT-4, lo que sugiere que pudieron haber sido entrenados con datos extraídos de OpenAI. A pesar de estas acusaciones, DeepSeek ha negado cualquier irregularidad, argumentando que su tecnología ha sido desarrollada de manera independiente y basada en modelos de código abierto.\n",
    "\n",
    "Referencias: https://www.redusers.com/noticias/openai-se-queja-robo-datos-parte-deepseek/"
   ]
  },
  {
   "cell_type": "markdown",
   "metadata": {},
   "source": [
    "### **Costo de entrenamiento.**"
   ]
  },
  {
   "cell_type": "markdown",
   "metadata": {},
   "source": [
    "El modelo DeepSeek-V3 se entrenó con un presupuesto aproximado de 5.576 millones de dólares. Este costo incluye el preentrenamiento, la extensión del contexto y el ajuste fino, lo que ha permitido a la empresa ofrecer modelos de IA competitivos a un costo relativamente bajo.\n",
    "\n",
    "Como ejemplo de optimización, DeepSeek ha implementado el entrenamiento distribuido en múltiples centros de datos, reduciendo el consumo energético mediante sistemas de enfriamiento líquido. Además, han utilizado técnicas como la \"poda de parámetros\" para eliminar conexiones neuronales innecesarias, lo que disminuye la carga computacional sin afectar el rendimiento del modelo.\n",
    "\n",
    "Referencias: https://es.wired.com/articulos/deepseek-asi-es-nuevo-modelo-de-ia-chino#:~:text=La%20metodolog%C3%ADa%20result%C3%B3%20en%20un,a%20su%20modelo%20Llama%203.1."
   ]
  },
  {
   "cell_type": "markdown",
   "metadata": {},
   "source": [
    "### **Relación con la elección del nuevo presidente de los Estados Unidos.**"
   ]
  },
  {
   "cell_type": "markdown",
   "metadata": {},
   "source": [
    "El lanzamiento del modelo R1 de DeepSeek coincidió con la toma de posesión del presidente Donald Trump en enero de 2025. Esta coincidencia ha generado especulación sobre el impacto de los avances en IA en las relaciones geopolíticas entre Estados Unidos y China.\n",
    "\n",
    "Por ejemplo, en un discurso reciente, el nuevo secretario de Comercio de EE.UU. mencionó la necesidad de aumentar las restricciones a la exportación de chips avanzados a China, lo que podría afectar el crecimiento de DeepSeek. A su vez, China ha intensificado sus esfuerzos para desarrollar su propia infraestructura de semiconductores con el apoyo de empresas locales como Huawei y SMIC.\n",
    "\n",
    "Referencias: https://www.dw.com/es/deepseek-podr%C3%ADa-afectar-a-toda-la-presidencia-de-trump/a-71443290"
   ]
  },
  {
   "cell_type": "markdown",
   "metadata": {},
   "source": [
    "### **GPUs utilizadas.**"
   ]
  },
  {
   "cell_type": "markdown",
   "metadata": {},
   "source": [
    "Para el entrenamiento de sus modelos, DeepSeek empleó una infraestructura con 5,000 GPUs Nvidia A100 PCIe distribuidas en 625 nodos, cada uno con 8 GPUs. Este hardware de alto rendimiento ha permitido el desarrollo de modelos de IA avanzados.\n",
    "\n",
    "Como alternativa, DeepSeek ha comenzado a probar el uso de chips desarrollados en China, como los Ascend 910 de Huawei, que han demostrado eficiencia en tareas de entrenamiento de IA. También han explorado arquitecturas neuromórficas para mejorar la eficiencia energética y acelerar el procesamiento en aplicaciones específicas.\n",
    "\n",
    "Referencias: https://www.xataka.com/robotica-e-ia/conocemos-secreto-extrema-eficiencia-deepseek-ha-esquivado-estandar-cuda-nvidia"
   ]
  }
 ],
 "metadata": {
  "language_info": {
   "name": "python"
  }
 },
 "nbformat": 4,
 "nbformat_minor": 2
}
