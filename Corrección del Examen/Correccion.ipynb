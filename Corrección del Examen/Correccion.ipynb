{
 "cells": [
  {
   "cell_type": "markdown",
   "metadata": {},
   "source": [
    "# ESCUELA POLITECNICA NACIONAL\n",
    "- Nombre: Freddy Jimenez\n",
    "- Curso: Gr1cc\n",
    "- Fecha: 10/12/2024\n"
   ]
  },
  {
   "cell_type": "markdown",
   "metadata": {},
   "source": [
    "----"
   ]
  },
  {
   "cell_type": "markdown",
   "metadata": {},
   "source": [
    "## EJERCICIO 1. -"
   ]
  },
  {
   "cell_type": "markdown",
   "metadata": {},
   "source": [
    "#### Los primeros tres términos diferentes a cero de la serie de Maclaurin para la función arcotangente son: $((x - \\frac{1}{3} x^3 + \\frac{1}{5} x^5))$. Redondee a 4 cifras significativas únicamente en la respuesta final de sus cálculos. $$ \\epsilon = $$"
   ]
  },
  {
   "cell_type": "code",
   "execution_count": 2,
   "metadata": {},
   "outputs": [
    {
     "name": "stdout",
     "output_type": "stream",
     "text": [
      "ε = 0.0013\n"
     ]
    }
   ],
   "source": [
    "pi_real = 3.14159\n",
    "def arctan_approx(x):\n",
    "    return x - (1/3) * x**3 + (1/5) * x**5\n",
    "approximation = 4 * (arctan_approx(1/2) + arctan_approx(1/3))\n",
    "epsilon = abs((approximation - pi_real) / pi_real)\n",
    "epsilon_rounded = round(epsilon, 4)\n",
    "print(\"ε =\", epsilon_rounded)"
   ]
  },
  {
   "cell_type": "markdown",
   "metadata": {},
   "source": [
    "¿En qué orden de magnitud está este error? Es decir, $$\\epsilon < 10^n, \\, n = ?$$"
   ]
  },
  {
   "cell_type": "code",
   "execution_count": 3,
   "metadata": {},
   "outputs": [
    {
     "name": "stdout",
     "output_type": "stream",
     "text": [
      "Orden de magnitud: n = -3\n"
     ]
    }
   ],
   "source": [
    "import math\n",
    "pi_real = 3.14159\n",
    "def arctan_approx(x):\n",
    "    return x - (1/3) * x**3 + (1/5) * x**5\n",
    "approximation = 4 * (arctan_approx(1/2) + arctan_approx(1/3))\n",
    "epsilon = abs((approximation - pi_real) / pi_real)\n",
    "n = math.floor(math.log10(epsilon))\n",
    "print(\"Orden de magnitud: n =\", n)"
   ]
  },
  {
   "cell_type": "markdown",
   "metadata": {},
   "source": [
    "#### \n",
    "$$ 16 \\times \\arctan\\left(\\frac{1}{5}\\right) - 4 \\times \\arctan\\left(\\frac{1}{239}\\right) $$\n",
    "¿En qué orden de magnitud está este error? Es decir, $$\\epsilon < 10^n, \\, n =?$$"
   ]
  },
  {
   "cell_type": "code",
   "execution_count": 10,
   "metadata": {},
   "outputs": [
    {
     "name": "stdout",
     "output_type": "stream",
     "text": [
      "ε = 0.0\n",
      "Orden de magnitud: n = -6\n"
     ]
    }
   ],
   "source": [
    "import math\n",
    "pi_real = 3.14159\n",
    "def arctan_approx(x):\n",
    "    return x - (1/3) * x**3 + (1/5) * x**5\n",
    "approximation = 16 * arctan_approx(1/5) - 4 * arctan_approx(1/239)\n",
    "epsilon = abs((approximation - pi_real) / pi_real)\n",
    "n = math.floor(math.log10(epsilon))\n",
    "epsilon_rounded = round(epsilon, 4)\n",
    "print(\"ε =\", epsilon_rounded)\n",
    "print(\"Orden de magnitud: n =\", n)"
   ]
  },
  {
   "cell_type": "markdown",
   "metadata": {},
   "source": [
    "-----"
   ]
  },
  {
   "cell_type": "markdown",
   "metadata": {},
   "source": [
    "## EJERCICIO 2. -"
   ]
  },
  {
   "cell_type": "markdown",
   "metadata": {},
   "source": [
    "Usando los datos $(x_0, y_0) = (1.31, 3.24)$ y $(x_1, y_1) = (1.93, 4.76)$ , determine el valor real de la intersección $x$ (asumiendo redondeo a 6 cifras significativas):"
   ]
  },
  {
   "cell_type": "code",
   "execution_count": 11,
   "metadata": {},
   "outputs": [
    {
     "name": "stdout",
     "output_type": "stream",
     "text": [
      "El valor de x es: -0.01157895\n"
     ]
    }
   ],
   "source": [
    "# Puntos iniciales\n",
    "x0 = 1.31\n",
    "y0 = 3.24\n",
    "x1 = 1.93\n",
    "y1 = 4.76\n",
    "# Usamos el método A para calcular la intersección en x\n",
    "x = (x0 * y1 - x1 * y0) / (y1 - y0)\n",
    "# Redondeamos el resultado a 6 cifras significativas\n",
    "x = round(x, 8)\n",
    "# Mostramos el resultado\n",
    "print(\"El valor de x es:\", x)"
   ]
  },
  {
   "cell_type": "markdown",
   "metadata": {},
   "source": [
    "Usando aritmética de computador con redondeo a 3 cifras significativas resuelva para ambos métodos.\n",
    "\n",
    "**Usando el método A:**\n",
    "$$ x =$$ \n",
    "\n",
    "\n",
    "El error relativo (redondee al final del cálculo a 3 cifras significativas) del método A:\n",
    "$$ \\epsilon = $$ "
   ]
  },
  {
   "cell_type": "code",
   "execution_count": 6,
   "metadata": {},
   "outputs": [
    {
     "name": "stdout",
     "output_type": "stream",
     "text": [
      "Método A:\n",
      "x = -0.012\n",
      "ϵ = 0.412\n"
     ]
    }
   ],
   "source": [
    "# Coordenadas iniciales\n",
    "x0 = 1.31\n",
    "y0 = 3.24\n",
    "x1 = 1.93\n",
    "y1 = 4.76\n",
    "# Cálculo usando el Método A\n",
    "x_a = (x0 * y1 - x1 * y0) / (y1 - y0)\n",
    "# Valor esperado y cálculo del error relativo\n",
    "x_esperado = -0.0197\n",
    "epsilon_a = abs((x_a - x_esperado) / x_esperado)\n",
    "# Redondeo a 3 cifras significativas\n",
    "x_a = round(x_a, 3)\n",
    "epsilon_a = round(epsilon_a, 3)\n",
    "# Imprimir resultados\n",
    "print(\"Método A:\")\n",
    "print(\"x =\", x_a)\n",
    "print(\"ϵ =\", epsilon_a)"
   ]
  },
  {
   "cell_type": "markdown",
   "metadata": {},
   "source": [
    "\n",
    "**Usando el método B:**\n",
    "$$ x = $$\n",
    "\n",
    "El error relativo (redondee al final del cálculo a 3 cifras significativas) del método B:\n",
    "$$ \\epsilon = $$ "
   ]
  },
  {
   "cell_type": "code",
   "execution_count": 8,
   "metadata": {},
   "outputs": [
    {
     "name": "stdout",
     "output_type": "stream",
     "text": [
      "Método B:\n",
      "x = -0.012\n",
      "ϵ = 0.103\n"
     ]
    }
   ],
   "source": [
    "# Coordenadas iniciales\n",
    "x0 = 1.31\n",
    "y0 = 3.24\n",
    "x1 = 1.93\n",
    "y1 = 4.76\n",
    "# Cálculo usando el Método B\n",
    "x_b = x0 - ((x1 - x0) * y0) / (y1 - y0)\n",
    "# Valor esperado y cálculo del error relativo\n",
    "x_esperado = -0.0105\n",
    "epsilon_b = abs((x_b - x_esperado) / x_esperado)\n",
    "# Redondeo a 3 cifras significativas\n",
    "x_b = round(x_b, 3)\n",
    "epsilon_b = round(epsilon_b, 3)\n",
    "# Imprimir resultados\n",
    "print(\"Método B:\")\n",
    "print(\"x =\", x_b)\n",
    "print(\"ϵ =\", epsilon_b)"
   ]
  },
  {
   "cell_type": "markdown",
   "metadata": {},
   "source": [
    "¿Cuál método es mejor?"
   ]
  },
  {
   "cell_type": "code",
   "execution_count": 9,
   "metadata": {},
   "outputs": [
    {
     "name": "stdout",
     "output_type": "stream",
     "text": [
      "Método A: x = -0.0197, ϵ = 0.701\n",
      "Método B: x = -0.0105, ϵ = 0.0931\n",
      "Los valores de x son diferentes.\n",
      "El Método B tiene un error relativo menor.\n"
     ]
    }
   ],
   "source": [
    "# Resultados obtenidos de los métodos\n",
    "x_a = -0.0197\n",
    "epsilon_a = 0.701\n",
    "x_b = -0.0105\n",
    "epsilon_b = 0.0931\n",
    "# Comparación de los resultados\n",
    "print(f\"Método A: x = {x_a}, ϵ = {epsilon_a}\")\n",
    "print(f\"Método B: x = {x_b}, ϵ = {epsilon_b}\")\n",
    "# Comparar los resultados de x\n",
    "if x_a == x_b:\n",
    "    print(\"Ambos métodos dan el mismo valor para x.\")\n",
    "else:\n",
    "    print(\"Los valores de x son diferentes.\")\n",
    "    if epsilon_a < epsilon_b:\n",
    "        print(\"El Método A tiene un error relativo menor.\")\n",
    "    elif epsilon_a > epsilon_b:\n",
    "        print(\"El Método B tiene un error relativo menor.\")\n",
    "    else:\n",
    "        print(\"Ambos métodos tienen el mismo error relativo.\")"
   ]
  },
  {
   "cell_type": "markdown",
   "metadata": {},
   "source": [
    "------"
   ]
  },
  {
   "cell_type": "markdown",
   "metadata": {},
   "source": [
    "## EJERCICIO 3. -"
   ]
  },
  {
   "cell_type": "code",
   "execution_count": null,
   "metadata": {},
   "outputs": [],
   "source": []
  },
  {
   "cell_type": "markdown",
   "metadata": {},
   "source": [
    "------"
   ]
  },
  {
   "cell_type": "markdown",
   "metadata": {},
   "source": [
    "## EJERCICIO 4. -"
   ]
  },
  {
   "cell_type": "markdown",
   "metadata": {},
   "source": [
    "----"
   ]
  },
  {
   "cell_type": "markdown",
   "metadata": {},
   "source": [
    "## EJERCICIO 5. -"
   ]
  },
  {
   "cell_type": "markdown",
   "metadata": {},
   "source": [
    "-----"
   ]
  },
  {
   "cell_type": "markdown",
   "metadata": {},
   "source": [
    "## EJERCICIO 6. -"
   ]
  },
  {
   "cell_type": "markdown",
   "metadata": {},
   "source": [
    "----"
   ]
  },
  {
   "cell_type": "markdown",
   "metadata": {},
   "source": [
    "## EJERCICIO 7. -"
   ]
  },
  {
   "cell_type": "markdown",
   "metadata": {},
   "source": [
    "----"
   ]
  },
  {
   "cell_type": "markdown",
   "metadata": {},
   "source": [
    "## EJERICICIO 8. -"
   ]
  },
  {
   "cell_type": "markdown",
   "metadata": {},
   "source": [
    "----"
   ]
  },
  {
   "cell_type": "markdown",
   "metadata": {},
   "source": []
  }
 ],
 "metadata": {
  "kernelspec": {
   "display_name": "Python 3",
   "language": "python",
   "name": "python3"
  },
  "language_info": {
   "codemirror_mode": {
    "name": "ipython",
    "version": 3
   },
   "file_extension": ".py",
   "mimetype": "text/x-python",
   "name": "python",
   "nbconvert_exporter": "python",
   "pygments_lexer": "ipython3",
   "version": "3.11.9"
  }
 },
 "nbformat": 4,
 "nbformat_minor": 2
}
