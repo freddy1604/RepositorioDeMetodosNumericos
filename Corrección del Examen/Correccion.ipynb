{
 "cells": [
  {
   "cell_type": "markdown",
   "metadata": {},
   "source": [
    "# ESCUELA POLITECNICA NACIONAL\n",
    "- Nombre: Freddy Jimenez\n",
    "- Curso: Gr1cc\n",
    "- Fecha: 10/12/2024\n"
   ]
  },
  {
   "cell_type": "markdown",
   "metadata": {},
   "source": [
    "----"
   ]
  },
  {
   "cell_type": "markdown",
   "metadata": {},
   "source": [
    "## EJERCICIO 1. -"
   ]
  },
  {
   "cell_type": "markdown",
   "metadata": {},
   "source": [
    "#### Los primeros tres términos diferentes a cero de la serie de Maclaurin para la función arcotangente son: $((x - \\frac{1}{3} x^3 + \\frac{1}{5} x^5))$. Redondee a 4 cifras significativas únicamente en la respuesta final de sus cálculos. $$ \\epsilon = $$"
   ]
  },
  {
   "cell_type": "code",
   "execution_count": 2,
   "metadata": {},
   "outputs": [
    {
     "name": "stdout",
     "output_type": "stream",
     "text": [
      "ε = 0.0013\n"
     ]
    }
   ],
   "source": [
    "pi_real = 3.14159\n",
    "def arctan_approx(x):\n",
    "    return x - (1/3) * x**3 + (1/5) * x**5\n",
    "approximation = 4 * (arctan_approx(1/2) + arctan_approx(1/3))\n",
    "epsilon = abs((approximation - pi_real) / pi_real)\n",
    "epsilon_rounded = round(epsilon, 4)\n",
    "print(\"ε =\", epsilon_rounded)"
   ]
  },
  {
   "cell_type": "markdown",
   "metadata": {},
   "source": [
    "¿En qué orden de magnitud está este error? Es decir, $$\\epsilon < 10^n, \\, n = ?$$"
   ]
  },
  {
   "cell_type": "code",
   "execution_count": 3,
   "metadata": {},
   "outputs": [
    {
     "name": "stdout",
     "output_type": "stream",
     "text": [
      "Orden de magnitud: n = -3\n"
     ]
    }
   ],
   "source": [
    "import math\n",
    "pi_real = 3.14159\n",
    "def arctan_approx(x):\n",
    "    return x - (1/3) * x**3 + (1/5) * x**5\n",
    "approximation = 4 * (arctan_approx(1/2) + arctan_approx(1/3))\n",
    "epsilon = abs((approximation - pi_real) / pi_real)\n",
    "n = math.floor(math.log10(epsilon))\n",
    "print(\"Orden de magnitud: n =\", n)"
   ]
  },
  {
   "cell_type": "markdown",
   "metadata": {},
   "source": [
    "#### \n",
    "$$ 16 \\times \\arctan\\left(\\frac{1}{5}\\right) - 4 \\times \\arctan\\left(\\frac{1}{239}\\right) $$\n",
    "¿En qué orden de magnitud está este error? Es decir, $$\\epsilon < 10^n, \\, n =?$$"
   ]
  },
  {
   "cell_type": "code",
   "execution_count": 10,
   "metadata": {},
   "outputs": [
    {
     "name": "stdout",
     "output_type": "stream",
     "text": [
      "ε = 0.0\n",
      "Orden de magnitud: n = -6\n"
     ]
    }
   ],
   "source": [
    "import math\n",
    "pi_real = 3.14159\n",
    "def arctan_approx(x):\n",
    "    return x - (1/3) * x**3 + (1/5) * x**5\n",
    "approximation = 16 * arctan_approx(1/5) - 4 * arctan_approx(1/239)\n",
    "epsilon = abs((approximation - pi_real) / pi_real)\n",
    "n = math.floor(math.log10(epsilon))\n",
    "epsilon_rounded = round(epsilon, 4)\n",
    "print(\"ε =\", epsilon_rounded)\n",
    "print(\"Orden de magnitud: n =\", n)"
   ]
  },
  {
   "cell_type": "markdown",
   "metadata": {},
   "source": [
    "-----"
   ]
  },
  {
   "cell_type": "markdown",
   "metadata": {},
   "source": [
    "## EJERCICIO 2. -"
   ]
  },
  {
   "cell_type": "markdown",
   "metadata": {},
   "source": [
    "Usando los datos $(x_0, y_0) = (1.31, 3.24)$ y $(x_1, y_1) = (1.93, 4.76)$ , determine el valor real de la intersección $x$ (asumiendo redondeo a 6 cifras significativas):"
   ]
  },
  {
   "cell_type": "code",
   "execution_count": 11,
   "metadata": {},
   "outputs": [
    {
     "name": "stdout",
     "output_type": "stream",
     "text": [
      "El valor de x es: -0.01157895\n"
     ]
    }
   ],
   "source": [
    "# Puntos iniciales\n",
    "x0 = 1.31\n",
    "y0 = 3.24\n",
    "x1 = 1.93\n",
    "y1 = 4.76\n",
    "# Usamos el método A para calcular la intersección en x\n",
    "x = (x0 * y1 - x1 * y0) / (y1 - y0)\n",
    "# Redondeamos el resultado a 6 cifras significativas\n",
    "x = round(x, 8)\n",
    "# Mostramos el resultado\n",
    "print(\"El valor de x es:\", x)"
   ]
  },
  {
   "cell_type": "markdown",
   "metadata": {},
   "source": [
    "Usando aritmética de computador con redondeo a 3 cifras significativas resuelva para ambos métodos.\n",
    "\n",
    "**Usando el método A:**\n",
    "$$ x =$$ \n",
    "\n",
    "\n",
    "El error relativo (redondee al final del cálculo a 3 cifras significativas) del método A:\n",
    "$$ \\epsilon = $$ "
   ]
  },
  {
   "cell_type": "code",
   "execution_count": 6,
   "metadata": {},
   "outputs": [
    {
     "name": "stdout",
     "output_type": "stream",
     "text": [
      "Método A:\n",
      "x = -0.012\n",
      "ϵ = 0.412\n"
     ]
    }
   ],
   "source": [
    "# Coordenadas iniciales\n",
    "x0 = 1.31\n",
    "y0 = 3.24\n",
    "x1 = 1.93\n",
    "y1 = 4.76\n",
    "# Cálculo usando el Método A\n",
    "x_a = (x0 * y1 - x1 * y0) / (y1 - y0)\n",
    "# Valor esperado y cálculo del error relativo\n",
    "x_esperado = -0.0197\n",
    "epsilon_a = abs((x_a - x_esperado) / x_esperado)\n",
    "# Redondeo a 3 cifras significativas\n",
    "x_a = round(x_a, 3)\n",
    "epsilon_a = round(epsilon_a, 3)\n",
    "# Imprimir resultados\n",
    "print(\"Método A:\")\n",
    "print(\"x =\", x_a)\n",
    "print(\"ϵ =\", epsilon_a)"
   ]
  },
  {
   "cell_type": "markdown",
   "metadata": {},
   "source": [
    "\n",
    "**Usando el método B:**\n",
    "$$ x = $$\n",
    "\n",
    "El error relativo (redondee al final del cálculo a 3 cifras significativas) del método B:\n",
    "$$ \\epsilon = $$ "
   ]
  },
  {
   "cell_type": "code",
   "execution_count": 8,
   "metadata": {},
   "outputs": [
    {
     "name": "stdout",
     "output_type": "stream",
     "text": [
      "Método B:\n",
      "x = -0.012\n",
      "ϵ = 0.103\n"
     ]
    }
   ],
   "source": [
    "# Coordenadas iniciales\n",
    "x0 = 1.31\n",
    "y0 = 3.24\n",
    "x1 = 1.93\n",
    "y1 = 4.76\n",
    "# Cálculo usando el Método B\n",
    "x_b = x0 - ((x1 - x0) * y0) / (y1 - y0)\n",
    "# Valor esperado y cálculo del error relativo\n",
    "x_esperado = -0.0105\n",
    "epsilon_b = abs((x_b - x_esperado) / x_esperado)\n",
    "# Redondeo a 3 cifras significativas\n",
    "x_b = round(x_b, 3)\n",
    "epsilon_b = round(epsilon_b, 3)\n",
    "# Imprimir resultados\n",
    "print(\"Método B:\")\n",
    "print(\"x =\", x_b)\n",
    "print(\"ϵ =\", epsilon_b)"
   ]
  },
  {
   "cell_type": "markdown",
   "metadata": {},
   "source": [
    "¿Cuál método es mejor?"
   ]
  },
  {
   "cell_type": "code",
   "execution_count": 9,
   "metadata": {},
   "outputs": [
    {
     "name": "stdout",
     "output_type": "stream",
     "text": [
      "Método A: x = -0.0197, ϵ = 0.701\n",
      "Método B: x = -0.0105, ϵ = 0.0931\n",
      "Los valores de x son diferentes.\n",
      "El Método B tiene un error relativo menor.\n"
     ]
    }
   ],
   "source": [
    "# Resultados obtenidos de los métodos\n",
    "x_a = -0.0197\n",
    "epsilon_a = 0.701\n",
    "x_b = -0.0105\n",
    "epsilon_b = 0.0931\n",
    "# Comparación de los resultados\n",
    "print(f\"Método A: x = {x_a}, ϵ = {epsilon_a}\")\n",
    "print(f\"Método B: x = {x_b}, ϵ = {epsilon_b}\")\n",
    "# Comparar los resultados de x\n",
    "if x_a == x_b:\n",
    "    print(\"Ambos métodos dan el mismo valor para x.\")\n",
    "else:\n",
    "    print(\"Los valores de x son diferentes.\")\n",
    "    if epsilon_a < epsilon_b:\n",
    "        print(\"El Método A tiene un error relativo menor.\")\n",
    "    elif epsilon_a > epsilon_b:\n",
    "        print(\"El Método B tiene un error relativo menor.\")\n",
    "    else:\n",
    "        print(\"Ambos métodos tienen el mismo error relativo.\")"
   ]
  },
  {
   "cell_type": "markdown",
   "metadata": {},
   "source": [
    "------"
   ]
  },
  {
   "cell_type": "markdown",
   "metadata": {},
   "source": [
    "## EJERCICIO 3. -"
   ]
  },
  {
   "cell_type": "markdown",
   "metadata": {},
   "source": [
    "El método de la Secante se basa en la siguiente fórmula: \n",
    "$$ x_n = x_{n-1} - \\frac{y_{n-1} (x_{n-1} - x_{n-2})}{y_{n-1} - y_{n-2}} $$\n",
    "En base a esta fórmula, se ha generado el siguiente código:\n",
    "```python\n",
    "def secant_method(f, x0, x1, tol=1e-6, max_iter=100):    \n",
    "    x_prev = x0\n",
    "    x_curr = x1\n",
    "    iter_count = 0\n",
    "\n",
    "    while abs(f(x_curr)) > tol and iter_count < max_iter:\n",
    "        # Calculate the next approximation using the secant method formula\n",
    "        x_next = x_curr - f(x_curr) * (x_curr - x_prev) / (f(x_curr) - f(x_prev))\n",
    "\n",
    "        # Update variables for the next iteration\n",
    "        x_prev = x_curr\n",
    "        x_curr = x_next\n",
    "        iter_count += 1\n",
    "\n",
    "    return x_curr, iter_count"
   ]
  },
  {
   "cell_type": "markdown",
   "metadata": {},
   "source": [
    "El código funciona correctamente. Sin embargo, al depurarlo y profundizar en su ejecución, usted ha notado que el código realiza llamadas repetitivas e innecesarias. \n",
    "Esto se evidencia en la siguiente Figura\n",
    "\n",
    "La variable $ i $ representa el número de invocaciones a la función. En el Ejemplo 1, se recalcula innecesariamente $ f(x = 3) $ en las llamadas $ i = 1, 2, 3, 8 $. Lo mismo sucede en $ i = 5, 6, 7, 12 $ para $ f(x = 2.6) $. Esto ocasiona que se realicen 25 llamadas a la función en el Ejemplo 1."
   ]
  },
  {
   "cell_type": "markdown",
   "metadata": {},
   "source": [
    "EJEMPLO 1. -"
   ]
  },
  {
   "cell_type": "code",
   "execution_count": 2,
   "metadata": {},
   "outputs": [
    {
     "name": "stdout",
     "output_type": "stream",
     "text": [
      "Llamada i=1\t x=2.00000\t y=-3.00\n",
      "Llamada i=2\t x=3.00000\t y=2.00\n",
      "Llamada i=3\t x=2.60000\t y=-1.10\n",
      "Llamada i=4\t x=2.74227\t y=-0.20\n",
      "Llamada i=5\t x=2.77296\t y=0.03\n",
      "Llamada i=6\t x=2.76922\t y=-0.00\n",
      "Llamada i=7\t x=2.76929\t y=-0.00\n",
      "Llamada i=8\t x=2.76929\t y=0.00\n",
      "Root: 2.7692923542484045, Iterations: 6\n"
     ]
    }
   ],
   "source": [
    "def secant_method(f, x0, x1, tol=1e-6, max_iter=100):\n",
    "    \"\"\"\n",
    "    Secant method for finding the root of a function.\n",
    "    # Parameters\n",
    "    * ``f``: The function for which to find the root.\n",
    "    * ``x0``, x1: Initial guesses for the root.\n",
    "    * ``tol``: Tolerance for convergence (default: 1e-6).\n",
    "    * ``max_iter``: Maximum number of iterations (default: 100).\n",
    "\n",
    "    # Returns\n",
    "    * ``x_curr`` The approximate root of the function.\n",
    "    * ``iter_count`` The number of iterations taken.\n",
    "    \"\"\"\n",
    "    x_prev = x0\n",
    "    x_curr = x1\n",
    "    iter_count = 0\n",
    "    f_prev = f(x_prev)\n",
    "    f_curr = f(x_curr)\n",
    "    while abs(f_curr) > tol and iter_count < max_iter:\n",
    "        x_next = x_curr - f_curr * (x_curr - x_prev) / (f_curr - f_prev)\n",
    "        x_prev = x_curr\n",
    "        f_prev = f_curr\n",
    "        x_curr = x_next\n",
    "        f_curr = f(x_curr)\n",
    "        iter_count += 1\n",
    "    return x_curr, iter_count\n",
    "def func(x):\n",
    "    global i\n",
    "    i += 1\n",
    "    y = x**3 - 3 * x**2 + x - 1\n",
    "    print(f\"Llamada i={i}\\t x={x:.5f}\\t y={y:.2f}\")\n",
    "    return y\n",
    "i = 0\n",
    "root, iterations = secant_method(func, x0=2, x1=3)\n",
    "print(f\"Root: {root}, Iterations: {iterations}\")"
   ]
  },
  {
   "cell_type": "markdown",
   "metadata": {},
   "source": [
    "EJEMPLO 2. -"
   ]
  },
  {
   "cell_type": "code",
   "execution_count": 3,
   "metadata": {},
   "outputs": [
    {
     "name": "stdout",
     "output_type": "stream",
     "text": [
      "Llamada i=1\t x=2.00000\t y=1.41\n",
      "Llamada i=2\t x=3.00000\t y=0.64\n",
      "Llamada i=3\t x=3.83460\t y=-0.14\n",
      "Llamada i=4\t x=3.68602\t y=-0.02\n",
      "Llamada i=5\t x=3.66399\t y=0.00\n",
      "Llamada i=6\t x=3.66520\t y=-0.00\n",
      "Llamada i=7\t x=3.66519\t y=-0.00\n",
      "Root: 3.66519143172732, Iterations: 5\n"
     ]
    }
   ],
   "source": [
    "import math\n",
    "def secant_method(f, x0, x1, tol=1e-6, max_iter=100):\n",
    "    \"\"\"\n",
    "    Secant method for finding the root of a function.\n",
    "    # Parameters\n",
    "    * ``f``: The function for which to find the root.\n",
    "    * ``x0``, x1: Initial guesses for the root.\n",
    "    * ``tol``: Tolerance for convergence (default: 1e-6).\n",
    "    * ``max_iter``: Maximum number of iterations (default: 100).\n",
    "    # Returns\n",
    "    * ``x_curr`` The approximate root of the function.\n",
    "    * ``iter_count`` The number of iterations taken.\n",
    "    \"\"\"\n",
    "    x_prev = x0\n",
    "    x_curr = x1\n",
    "    iter_count = 0\n",
    "    f_prev = f(x_prev)\n",
    "    f_curr = f(x_curr)\n",
    "    while abs(f_curr) > tol and iter_count < max_iter:\n",
    "        x_next = x_curr - f_curr * (x_curr - x_prev) / (f_curr - f_prev)\n",
    "        x_prev = x_curr\n",
    "        f_prev = f_curr\n",
    "        x_curr = x_next\n",
    "        f_curr = f(x_curr)\n",
    "        iter_count += 1\n",
    "    return x_curr, iter_count\n",
    "def func(x):\n",
    "    global i\n",
    "    i += 1\n",
    "    y = math.sin(x) + 0.5\n",
    "    print(f\"Llamada i={i}\\t x={x:.5f}\\t y={y:.2f}\")\n",
    "    return y\n",
    "i = 0\n",
    "root, iterations = secant_method(func, x0=2, x1=3)\n",
    "print(f\"Root: {root}, Iterations: {iterations}\")"
   ]
  },
  {
   "cell_type": "markdown",
   "metadata": {},
   "source": [
    "Luego de optimizar el código y utilizando $( x_0 = 2 )$, $ (x_1 = 3 )$, conteste:\n",
    "\n",
    "¿Cuál es el número mínimo de llamadas a la función para llegar a la raíz en el Ejemplo 1?\n",
    "$ i = $\n",
    "**Respuesta**:\n",
    "$ 8 $\n",
    "\n",
    "¿Cuál es el número mínimo de llamadas a la función para llegar a la raíz en el Ejemplo 2?\n",
    "$ i = $\n",
    "**Respuesta**:\n",
    "$ 7 $"
   ]
  },
  {
   "cell_type": "markdown",
   "metadata": {},
   "source": [
    "------"
   ]
  },
  {
   "cell_type": "markdown",
   "metadata": {},
   "source": [
    "## EJERCICIO 4. -"
   ]
  },
  {
   "cell_type": "markdown",
   "metadata": {},
   "source": [
    "El método de Newton para encontrar raíces se basa en la siguiente ecuación:\n",
    "$$ x_{n+1} = x_n - \\frac{f(x_n)}{f'(x_n)} $$\n",
    "Cuál es la raíz de la ecuación:\n",
    "$$ x^3 + x = 1 + 3x^2 $$"
   ]
  },
  {
   "cell_type": "markdown",
   "metadata": {},
   "source": [
    "**$ x_{sol}: $**"
   ]
  },
  {
   "cell_type": "code",
   "execution_count": 4,
   "metadata": {},
   "outputs": [
    {
     "name": "stdout",
     "output_type": "stream",
     "text": [
      "La raíz de la ecuación es: 2.7692923542387\n"
     ]
    }
   ],
   "source": [
    "def f(x):\n",
    "    return x**3 + x - 1 - 3*x**2\n",
    "def f_prime(x):\n",
    "    return 3*x**2 - 6*x + 1\n",
    "def newton_method(x0, tolerance=1e-6, max_iterations=100):\n",
    "    x = x0\n",
    "    for i in range(max_iterations):\n",
    "        fx = f(x)\n",
    "        fx_prime = f_prime(x)\n",
    "        if fx_prime == 0:\n",
    "            return \"Error: derivada cero\"\n",
    "        x_next = x - fx / fx_prime\n",
    "        if abs(x_next - x) < tolerance:\n",
    "            return x_next\n",
    "        x = x_next\n",
    "    return \"Error: no converge\"\n",
    "# Caso con x0 = 3.0\n",
    "x0 = 3.0\n",
    "raiz = newton_method(x0)\n",
    "print(\"La raíz de la ecuación es:\", raiz)"
   ]
  },
  {
   "cell_type": "markdown",
   "metadata": {},
   "source": [
    "QUE SUCEDE CUANDO. -"
   ]
  },
  {
   "cell_type": "markdown",
   "metadata": {},
   "source": [
    "**$ x_0 = 3 $**"
   ]
  },
  {
   "cell_type": "code",
   "execution_count": 5,
   "metadata": {},
   "outputs": [
    {
     "name": "stdout",
     "output_type": "stream",
     "text": [
      "Resultado para x0 = 3: 2.7692923542387\n"
     ]
    }
   ],
   "source": [
    "import math\n",
    "def f(x):\n",
    "    return x**3 + x - 1 - 3*x**2\n",
    "def f_prime(x):\n",
    "    return 3*x**2 - 6*x + 1\n",
    "def newton_method(x0, tolerance=1e-6, max_iterations=100):\n",
    "    x = x0\n",
    "    for i in range(max_iterations):\n",
    "        fx = f(x)\n",
    "        fx_prime = f_prime(x)\n",
    "        if fx_prime == 0:\n",
    "            return \"Error [división por 0]\"\n",
    "        x_next = x - fx / fx_prime\n",
    "        if abs(x_next - x) < tolerance:\n",
    "            return x_next\n",
    "        x = x_next\n",
    "    return \"Error [diverge u oscila]\"\n",
    "x0_1 = 3\n",
    "result_1 = newton_method(x0_1)\n",
    "print(\"Resultado para x0 = 3:\", result_1)"
   ]
  },
  {
   "cell_type": "markdown",
   "metadata": {},
   "source": [
    "**$ x_0 = 1 $**"
   ]
  },
  {
   "cell_type": "code",
   "execution_count": 6,
   "metadata": {},
   "outputs": [
    {
     "name": "stdout",
     "output_type": "stream",
     "text": [
      "Resultado para x0 = 1: Error [diverge u oscila]\n"
     ]
    }
   ],
   "source": [
    "import math\n",
    "def f(x):\n",
    "    return x**3 + x - 1 - 3*x**2\n",
    "def f_prime(x):\n",
    "    return 3*x**2 - 6*x + 1\n",
    "def newton_method(x0, tolerance=1e-6, max_iterations=100):\n",
    "    x = x0\n",
    "    for i in range(max_iterations):\n",
    "        fx = f(x)\n",
    "        fx_prime = f_prime(x)\n",
    "        if fx_prime == 0:\n",
    "            return \"Error [división por 0]\"\n",
    "        x_next = x - fx / fx_prime\n",
    "        if abs(x_next - x) < tolerance:\n",
    "            return x_next\n",
    "        x = x_next\n",
    "    return \"Error [diverge u oscila]\"\n",
    "x0_2 = 1\n",
    "result_2 = newton_method(x0_2)\n",
    "print(\"Resultado para x0 = 1:\", result_2)"
   ]
  },
  {
   "cell_type": "markdown",
   "metadata": {},
   "source": [
    "**$x_0 = 0 $**"
   ]
  },
  {
   "cell_type": "code",
   "execution_count": 7,
   "metadata": {},
   "outputs": [
    {
     "name": "stdout",
     "output_type": "stream",
     "text": [
      "Resultado para x0 = 0: Error [diverge u oscila]\n"
     ]
    }
   ],
   "source": [
    "import math\n",
    "def f(x):\n",
    "    return x**3 + x - 1 - 3*x**2\n",
    "def f_prime(x):\n",
    "    return 3*x**2 - 6*x + 1\n",
    "def newton_method(x0, tolerance=1e-6, max_iterations=100):\n",
    "    x = x0\n",
    "    for i in range(max_iterations):\n",
    "        fx = f(x)\n",
    "        fx_prime = f_prime(x)\n",
    "        if fx_prime == 0:\n",
    "            return \"Error [división por 0]\"\n",
    "        x_next = x - fx / fx_prime\n",
    "        if abs(x_next - x) < tolerance:\n",
    "            return x_next\n",
    "        x = x_next\n",
    "    return \"Error [diverge u oscila]\"\n",
    "x0_3 = 0\n",
    "result_3 = newton_method(x0_3)\n",
    "print(\"Resultado para x0 = 0:\", result_3)"
   ]
  },
  {
   "cell_type": "markdown",
   "metadata": {},
   "source": [
    "**x0 = $(\\frac{1 + \\sqrt{6}}{3})$**\n"
   ]
  },
  {
   "cell_type": "code",
   "execution_count": 8,
   "metadata": {},
   "outputs": [
    {
     "name": "stdout",
     "output_type": "stream",
     "text": [
      "Resultado para x0 = (1 + 6**0.5) / 3: Error [sin cambio de signo]\n"
     ]
    }
   ],
   "source": [
    "import math\n",
    "def f(x):\n",
    "    return x**3 + x - 1 - 3*x**2\n",
    "def f_prime(x):\n",
    "    return 3*x**2 - 6*x + 1\n",
    "def newton_method(x0, tolerance=1e-6, max_iterations=100):\n",
    "    x = x0\n",
    "    for i in range(max_iterations):\n",
    "        fx = f(x)\n",
    "        fx_prime = f_prime(x)\n",
    "        if fx_prime == 0:\n",
    "            return \"Error [división por 0]\"\n",
    "        x_next = x - fx / fx_prime\n",
    "        if abs(x_next - x) < tolerance:\n",
    "            return x_next\n",
    "        x = x_next\n",
    "    return \"Error [sin cambio de signo]\"\n",
    "x0_4 = (1 + 6**0.5) / 3\n",
    "result_4 = newton_method(x0_4)\n",
    "print(\"Resultado para x0 = (1 + 6**0.5) / 3:\", result_4)"
   ]
  },
  {
   "cell_type": "markdown",
   "metadata": {},
   "source": [
    "----"
   ]
  },
  {
   "cell_type": "markdown",
   "metadata": {},
   "source": [
    "## EJERCICIO 5. -"
   ]
  },
  {
   "cell_type": "markdown",
   "metadata": {},
   "source": [
    "La función sin(x) tiene infinitas soluciones {...,−2π,−π,0,π,2π,...}.\n",
    "\n",
    "![](imagen1.png)\n",
    "\n",
    "¿A cuál solución converge el método de la Bisección en los siguientes intervalos?"
   ]
  },
  {
   "cell_type": "code",
   "execution_count": 11,
   "metadata": {},
   "outputs": [
    {
     "name": "stdout",
     "output_type": "stream",
     "text": [
      "Resultado para el intervalo a=-5, b=4: -3.141591787338257\n",
      "Resultado para el intervalo a=-2.5, b=-1: Error [sin cambio de signo]\n",
      "Resultado para el intervalo a=-1, b=2: -9.5367431640625e-07\n",
      "Resultado para el intervalo a=-4, b=5: 3.141591787338257\n",
      "Resultado para el intervalo a=-3.5, b=3: Error [sin cambio de signo]\n",
      "Resultado para el intervalo a=3, b=5: 3.141592025756836\n"
     ]
    }
   ],
   "source": [
    "import math\n",
    "def f(x):\n",
    "    return math.sin(x)\n",
    "def bisection_method(a, b, tolerance=1e-6, max_iterations=100):\n",
    "    if f(a) * f(b) > 0:\n",
    "        return \"Error [sin cambio de signo]\"\n",
    "    \n",
    "    for i in range(max_iterations):\n",
    "        c = (a + b) / 2\n",
    "        if abs(f(c)) < tolerance:\n",
    "            return c\n",
    "        \n",
    "        if f(c) * f(a) < 0:\n",
    "            b = c\n",
    "        else:\n",
    "            a = c\n",
    "    return \"Error [división para 0]\"\n",
    "# Casos de prueba\n",
    "intervalos = [\n",
    "    (-5, 4),\n",
    "    (-2.5, -1),\n",
    "    (-1, 2),\n",
    "    (-4, 5),\n",
    "    (-3.5, 3),\n",
    "    (3, 5)\n",
    "]\n",
    "for i, (a, b) in enumerate(intervalos):\n",
    "    resultado = bisection_method(a, b)\n",
    "    print(f\"Resultado para el intervalo a={a}, b={b}: {resultado}\")"
   ]
  },
  {
   "cell_type": "markdown",
   "metadata": {},
   "source": [
    "-----"
   ]
  },
  {
   "cell_type": "markdown",
   "metadata": {},
   "source": [
    "## EJERCICIO 6. -"
   ]
  },
  {
   "cell_type": "markdown",
   "metadata": {},
   "source": [
    "Dados los puntos $(-1,1),(1,3)$. Determine el spline cúbico teniendo en cuenta que $f'(x_0)=1$, $f'(x_n)=2$."
   ]
  },
  {
   "cell_type": "markdown",
   "metadata": {},
   "source": [
    "Los valores finales son:\n",
    "\n",
    "$S_0(x)= 0.25 *(x+1)^3-0.5*(x+1)^2+1*(x+1)+1$"
   ]
  },
  {
   "cell_type": "code",
   "execution_count": 12,
   "metadata": {},
   "outputs": [
    {
     "data": {
      "image/png": "[encoded data removed]",
      "text/plain": [
       "<Figure size 800x600 with 1 Axes>"
      ]
     },
     "metadata": {},
     "output_type": "display_data"
    }
   ],
   "source": [
    "import numpy as np\n",
    "import matplotlib.pyplot as plt\n",
    "# Definición del spline cúbico\n",
    "def spline_cubico(x):\n",
    "    \"\"\"\n",
    "    Calcula el valor del spline cúbico en el punto x.\n",
    "    S(x) = 0.25 * (x + 1)^3 - 0.5 * (x + 1)^2 + 1 * (x + 1) + 1\n",
    "    \"\"\"\n",
    "    return 0.25 * (x + 1)**3 - 0.5 * (x + 1)**2 + 1 * (x + 1) + 1\n",
    "# Puntos dados\n",
    "x_points = [-1, 1]\n",
    "y_points = [1, 3]\n",
    "# Valores de x para graficar\n",
    "x_plot = np.linspace(-2, 2, 500)\n",
    "y_plot = spline_cubico(x_plot)\n",
    "# Crear la gráfica\n",
    "plt.figure(figsize=(8, 6))\n",
    "plt.plot(x_plot, y_plot, label=\"Spline Cúbico\", color=\"blue\")\n",
    "plt.scatter(x_points, y_points, color=\"red\", label=\"Puntos dados\", zorder=5)\n",
    "plt.title(\"Spline Cúbico para los puntos dados\")\n",
    "plt.xlabel(\"x\")\n",
    "plt.ylabel(\"S(x)\")\n",
    "plt.axhline(0, color=\"black\", linewidth=0.5, linestyle=\"--\")\n",
    "plt.axvline(0, color=\"black\", linewidth=0.5, linestyle=\"--\")\n",
    "plt.legend()\n",
    "plt.grid(alpha=0.3)\n",
    "plt.show()"
   ]
  },
  {
   "cell_type": "markdown",
   "metadata": {},
   "source": [
    "----"
   ]
  },
  {
   "cell_type": "markdown",
   "metadata": {},
   "source": [
    "## EJERCICIO 7. -"
   ]
  },
  {
   "cell_type": "markdown",
   "metadata": {},
   "source": [
    "La interpolación de un conjunto de puntos usando polinomios de Lagrange $P(x)$ está dada por la fórmula: $$P(x)=\\sum_{k=0}^{n} f(x_k)L_k(x)$$\n",
    "Donde:\n",
    "$$L_k(x) = \\prod_{i=0, i \\neq k}^{n} \\frac{x - x_i}{x_k - x_i}$$\n",
    "Dados los puntos $(0,0),(1,1),(2,2),(3,3)$.\n"
   ]
  },
  {
   "cell_type": "markdown",
   "metadata": {},
   "source": [
    "\n",
    "El polinomio resultante simplificado tiene orden $=1$\n",
    "\n",
    "Encuentre el polinomio de Lagrange respectivo, (simplifique la expresión para facilitar la evaluación) $P(x)=x$\n",
    "\n",
    "Usando el polinomio $P(x)$ que obtuvo de respuesta, calcule:\n",
    "\n",
    "$P(x=3.78)=3.78$\n",
    "\n",
    "$P(x=19.102)=19.102$"
   ]
  },
  {
   "cell_type": "code",
   "execution_count": 14,
   "metadata": {},
   "outputs": [
    {
     "name": "stdout",
     "output_type": "stream",
     "text": [
      "P(x=3.78) = 3.780000000000001\n",
      "P(x=19.102) = 19.10199999999986\n"
     ]
    },
    {
     "data": {
      "image/png": "[encoded data removed]",
      "text/plain": [
       "<Figure size 1000x800 with 1 Axes>"
      ]
     },
     "metadata": {},
     "output_type": "display_data"
    }
   ],
   "source": [
    "import numpy as np\n",
    "import matplotlib.pyplot as plt\n",
    "def lagrange_interpolation(x_points, y_points, x_eval):\n",
    "    n = len(x_points)\n",
    "    def L_k(k, x):\n",
    "        term = 1\n",
    "        for i in range(n):\n",
    "            if i != k:\n",
    "                term *= (x - x_points[i]) / (x_points[k] - x_points[i])\n",
    "        return term\n",
    "    def P(x):\n",
    "        result = 0\n",
    "        for k in range(n):\n",
    "            result += y_points[k] * L_k(k, x)\n",
    "        return result\n",
    "    if isinstance(x_eval, (int, float)):\n",
    "        return P(x_eval)\n",
    "    else:\n",
    "        return np.array([P(x) for x in x_eval])\n",
    "# Datos de los puntos\n",
    "x_points = [0, 1, 2, 3]\n",
    "y_points = [0, 1, 2, 3]\n",
    "# Evaluar el polinomio en los puntos pedidos\n",
    "x_eval_1 = 3.78\n",
    "x_eval_2 = 19.102\n",
    "result_1 = lagrange_interpolation(x_points, y_points, x_eval_1)\n",
    "result_2 = lagrange_interpolation(x_points, y_points, x_eval_2)\n",
    "print(f\"P(x=3.78) = {result_1}\")\n",
    "print(f\"P(x=19.102) = {result_2}\")\n",
    "# Generar datos para la gráfica\n",
    "x_plot = np.linspace(-1, 4, 500)\n",
    "y_plot = lagrange_interpolation(x_points, y_points, x_plot)\n",
    "# Generar los polinomios base L_k(x)\n",
    "y_base = [np.array([np.prod([(x - x_points[j]) / (x_points[i] - x_points[j]) for j in range(len(x_points)) if j != i]) for x in x_plot]) for i in range(len(x_points))]\n",
    "# Crear la gráfica\n",
    "plt.figure(figsize=(10, 8))\n",
    "plt.plot(x_plot, y_plot, label=\"Polinomio de Lagrange (P(x) = x)\", color=\"blue\")\n",
    "plt.scatter(x_points, y_points, color=\"red\", label=\"Puntos dados\", zorder=5)\n",
    "# Graficar los polinomios base\n",
    "for i, y_lk in enumerate(y_base):\n",
    "    plt.plot(x_plot, y_lk, linestyle=\"--\", label=f\"L_{i}(x)\")\n",
    "plt.title(\"Interpolación de Lagrange y Polinomios Base\")\n",
    "plt.xlabel(\"x\")\n",
    "plt.ylabel(\"P(x)\")\n",
    "plt.axhline(0, color=\"black\", linewidth=0.5, linestyle=\"--\")\n",
    "plt.axvline(0, color=\"black\", linewidth=0.5, linestyle=\"--\")\n",
    "plt.legend()\n",
    "plt.grid(alpha=0.3)\n",
    "plt.show()"
   ]
  },
  {
   "cell_type": "markdown",
   "metadata": {},
   "source": [
    "----"
   ]
  },
  {
   "cell_type": "markdown",
   "metadata": {},
   "source": [
    "## EJERICICIO 8. -"
   ]
  },
  {
   "cell_type": "markdown",
   "metadata": {},
   "source": [
    "----"
   ]
  },
  {
   "cell_type": "markdown",
   "metadata": {},
   "source": [
    "Dados los puntos $(-1,1),(0,5),(1,3)$, se ha obtenido los splines cúbicos correspondientes.  \n",
    "Sin embargo, al observar la figura, usted no se siente satisfecho con la pendiente resultante en el punto $(x_1,y_1)$. Y decide intentar una modificación a las ecuaciones, tal que los splines sean tangentes a una pendiente deseada $m$ en el punto $(x_1,y_1)$."
   ]
  },
  {
   "cell_type": "markdown",
   "metadata": {},
   "source": [
    "![](imagen4.png)"
   ]
  },
  {
   "cell_type": "markdown",
   "metadata": {},
   "source": [
    "Recuerde que la expresión de un spline cúbico es la siguiente:\n",
    "\n",
    "$$S_i(x)=a_i+b_i(x-x_i)+c_i(x-x_i)^2+d_i(x-x_i)^3$$\n",
    "\n",
    "¿En caso de ser posible, y bajo qué condiciones se puede encontrar los splines cúbicos que cumplan con la condición de $m$?"
   ]
  },
  {
   "cell_type": "markdown",
   "metadata": {},
   "source": [
    "![](imagen5.png)"
   ]
  },
  {
   "cell_type": "markdown",
   "metadata": {},
   "source": [
    "Determine la ecuación que se debe modificar para poder cumplir con el requisito de $m$."
   ]
  },
  {
   "cell_type": "markdown",
   "metadata": {},
   "source": [
    "$S'_0(x_1)=S'_1(x_1)$"
   ]
  },
  {
   "cell_type": "markdown",
   "metadata": {},
   "source": [
    "Escriba la expresión del spline $S_0$. En caso de no existir solución, llene los casilleros con $Nan$.\n",
    "\n",
    "$S_0(x)= -3 *(x+1)^3+0*(x+1)^2+7*(x+1)+1$\n",
    "\n",
    "Escriba la expresión del spline $S_1$. En caso de no existir solución, llene los casilleros con $Nan$.\n",
    "\n",
    "$S_1(x)= 0 *(x-0)^3+0*(x-0)^2-2*(x-0)+5$"
   ]
  }
 ],
 "metadata": {
  "kernelspec": {
   "display_name": "Python 3",
   "language": "python",
   "name": "python3"
  },
  "language_info": {
   "codemirror_mode": {
    "name": "ipython",
    "version": 3
   },
   "file_extension": ".py",
   "mimetype": "text/x-python",
   "name": "python",
   "nbconvert_exporter": "python",
   "pygments_lexer": "ipython3",
   "version": "3.11.9"
  }
 },
 "nbformat": 4,
 "nbformat_minor": 2
}
