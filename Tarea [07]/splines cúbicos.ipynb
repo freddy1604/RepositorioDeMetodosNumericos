{
 "cells": [
  {
   "cell_type": "markdown",
   "metadata": {},
   "source": [
    "# [Tarea 07] Unidad 03-B | splines cúbicos"
   ]
  },
  {
   "cell_type": "markdown",
   "metadata": {},
   "source": [
    "* Nombre:Freddy Jimenez\n",
    "* Curso:Gr1cc\n",
    "* Materia: Metodos Númericos\n",
    "* Fecha: 29/10/2024"
   ]
  },
  {
   "cell_type": "markdown",
   "metadata": {},
   "source": [
    "## CONJUNTO DE EJERCICIOS. -"
   ]
  },
  {
   "cell_type": "markdown",
   "metadata": {},
   "source": []
  }
 ],
 "metadata": {
  "language_info": {
   "name": "python"
  }
 },
 "nbformat": 4,
 "nbformat_minor": 2
}
